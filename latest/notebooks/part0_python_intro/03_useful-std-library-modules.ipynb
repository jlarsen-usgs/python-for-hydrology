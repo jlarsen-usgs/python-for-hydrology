{
 "cells": [
  {
   "cell_type": "markdown",
   "metadata": {},
   "source": [
    "# 03: Useful standard library modules\n",
    "(pathlib, shutil, sys, os, subprocess, zipfile, etc.)\n",
    "\n",
    "These packages are part of the standard python library and provide very useful functionality for working with your operating system and files.  This notebook will provide explore these packages and demonstrate some of their functionality.  Online documentation is at https://docs.python.org/3/library/.\n",
    "\n",
    "\n",
    "#### Topics covered:\n",
    "* **pathlib**:\n",
    "    * listing files\n",
    "    * creating, moving and deleting files\n",
    "    * absolute vs relative paths\n",
    "    * useful path object attributes\n",
    "* **shutil**: \n",
    "    * copying, moving and deleting files AND folders\n",
    "* **sys**: \n",
    "    * python and platform information\n",
    "    * command line arguments\n",
    "    * modifying the python path to import code from other locations\n",
    "* **os**:\n",
    "    * changing the working directory\n",
    "    * recursive iteration through folder structures\n",
    "    * accessing environmental variables\n",
    "* **subprocess**: \n",
    "    * running system commands and checking the results\n",
    "* **zipfile**:\n",
    "    * creating and extracting from zip archives"
   ]
  },
  {
   "cell_type": "code",
   "execution_count": 1,
   "metadata": {
    "execution": {
     "iopub.execute_input": "2025-05-19T23:55:13.278781Z",
     "iopub.status.busy": "2025-05-19T23:55:13.278626Z",
     "iopub.status.idle": "2025-05-19T23:55:13.283631Z",
     "shell.execute_reply": "2025-05-19T23:55:13.283145Z"
    }
   },
   "outputs": [],
   "source": [
    "import os\n",
    "from pathlib import Path\n",
    "import shutil\n",
    "import subprocess\n",
    "import sys\n",
    "import zipfile"
   ]
  },
  {
   "cell_type": "markdown",
   "metadata": {},
   "source": [
    "## ``pathlib`` — Object-oriented filesystem paths\n",
    "Pathlib provides convenient \"pathlike\" objects for working with file paths across platforms (meaning paths or operations done with pathlib work the same on Windows or POSIX systems (Linux, OSX, etc)). The main entry point for users is the ``Path()`` class.\n",
    "\n",
    "further reading:  \n",
    "https://treyhunner.com/2018/12/why-you-should-be-using-pathlib/  \n",
    "https://docs.python.org/3/library/pathlib.html"
   ]
  },
  {
   "cell_type": "markdown",
   "metadata": {},
   "source": [
    "#### Make a ``Path()`` object for the current folder"
   ]
  },
  {
   "cell_type": "code",
   "execution_count": 2,
   "metadata": {
    "execution": {
     "iopub.execute_input": "2025-05-19T23:55:13.285335Z",
     "iopub.status.busy": "2025-05-19T23:55:13.284942Z",
     "iopub.status.idle": "2025-05-19T23:55:13.289738Z",
     "shell.execute_reply": "2025-05-19T23:55:13.289353Z"
    }
   },
   "outputs": [
    {
     "data": {
      "text/plain": [
       "PosixPath('.')"
      ]
     },
     "execution_count": 2,
     "metadata": {},
     "output_type": "execute_result"
    }
   ],
   "source": [
    "cwd = Path('.')\n",
    "cwd"
   ]
  },
  {
   "cell_type": "markdown",
   "metadata": {},
   "source": [
    "### Listing files"
   ]
  },
  {
   "cell_type": "code",
   "execution_count": 3,
   "metadata": {
    "execution": {
     "iopub.execute_input": "2025-05-19T23:55:13.291101Z",
     "iopub.status.busy": "2025-05-19T23:55:13.290951Z",
     "iopub.status.idle": "2025-05-19T23:55:13.293934Z",
     "shell.execute_reply": "2025-05-19T23:55:13.293542Z"
    }
   },
   "outputs": [
    {
     "name": "stdout",
     "output_type": "stream",
     "text": [
      "06b_matplotlib_animation.ipynb\n",
      "09_b_Geopandas_ABQ.ipynb\n",
      "10_Rasterio.ipynb\n",
      "07b_VSCode.md\n",
      "00_python_basics_review.ipynb\n",
      "solutions\n",
      "09_a_Geopandas.ipynb\n",
      "03_useful-std-library-modules.ipynb\n",
      "data\n",
      "05_numpy.ipynb\n",
      "11_xarray_mt_rainier_precip.ipynb\n"
     ]
    }
   ],
   "source": [
    "for f in cwd.iterdir():\n",
    "    print(f)"
   ]
  },
  {
   "cell_type": "markdown",
   "metadata": {},
   "source": [
    "#### List just the notebooks using the ``.glob()`` method"
   ]
  },
  {
   "cell_type": "code",
   "execution_count": 4,
   "metadata": {
    "execution": {
     "iopub.execute_input": "2025-05-19T23:55:13.295246Z",
     "iopub.status.busy": "2025-05-19T23:55:13.295097Z",
     "iopub.status.idle": "2025-05-19T23:55:13.298146Z",
     "shell.execute_reply": "2025-05-19T23:55:13.297662Z"
    }
   },
   "outputs": [
    {
     "name": "stdout",
     "output_type": "stream",
     "text": [
      "06b_matplotlib_animation.ipynb\n",
      "09_b_Geopandas_ABQ.ipynb\n",
      "10_Rasterio.ipynb\n",
      "00_python_basics_review.ipynb\n",
      "09_a_Geopandas.ipynb\n",
      "03_useful-std-library-modules.ipynb\n",
      "05_numpy.ipynb\n",
      "11_xarray_mt_rainier_precip.ipynb\n"
     ]
    }
   ],
   "source": [
    "for nb in cwd.glob('*.ipynb'):\n",
    "    print(nb)"
   ]
  },
  {
   "cell_type": "markdown",
   "metadata": {},
   "source": [
    "#### Note: ``.glob()`` works across folders too\n",
    "List all notebooks for both class components"
   ]
  },
  {
   "cell_type": "code",
   "execution_count": 5,
   "metadata": {
    "execution": {
     "iopub.execute_input": "2025-05-19T23:55:13.299717Z",
     "iopub.status.busy": "2025-05-19T23:55:13.299568Z",
     "iopub.status.idle": "2025-05-19T23:55:13.302717Z",
     "shell.execute_reply": "2025-05-19T23:55:13.302231Z"
    }
   },
   "outputs": [
    {
     "name": "stdout",
     "output_type": "stream",
     "text": [
      "../part1_flopy/01-Flopy-intro.ipynb\n",
      "../part1_flopy/09-gwt-voronoi-demo.ipynb\n",
      "../part1_flopy/05-unstructured-grids.ipynb\n",
      "../part1_flopy/08_Modflow-setup-demo.ipynb\n",
      "../part1_flopy/10_modpath_particle_tracking-demo.ipynb\n",
      "../part0_python_intro/06b_matplotlib_animation.ipynb\n",
      "../part0_python_intro/09_b_Geopandas_ABQ.ipynb\n",
      "../part0_python_intro/10_Rasterio.ipynb\n",
      "../part0_python_intro/00_python_basics_review.ipynb\n",
      "../part0_python_intro/09_a_Geopandas.ipynb\n",
      "../part0_python_intro/03_useful-std-library-modules.ipynb\n",
      "../part0_python_intro/05_numpy.ipynb\n",
      "../part0_python_intro/11_xarray_mt_rainier_precip.ipynb\n"
     ]
    }
   ],
   "source": [
    "for nb in cwd.glob('../*/*.ipynb'):\n",
    "    print(nb)"
   ]
  },
  {
   "cell_type": "markdown",
   "metadata": {},
   "source": [
    "#### But ``glob`` results aren't sorted alphabetically!\n",
    "(and the sorting is platform-dependent)\n",
    "\n",
    "https://arstechnica.com/information-technology/2019/10/chemists-discover-cross-platform-python-scripts-not-so-cross-platform/?comments=1&post=38113333\n",
    "\n",
    "we can easily sort them by casting the results to a list"
   ]
  },
  {
   "cell_type": "code",
   "execution_count": 6,
   "metadata": {
    "execution": {
     "iopub.execute_input": "2025-05-19T23:55:13.304262Z",
     "iopub.status.busy": "2025-05-19T23:55:13.303971Z",
     "iopub.status.idle": "2025-05-19T23:55:13.307798Z",
     "shell.execute_reply": "2025-05-19T23:55:13.307342Z"
    }
   },
   "outputs": [
    {
     "data": {
      "text/plain": [
       "[PosixPath('../part0_python_intro/00_python_basics_review.ipynb'),\n",
       " PosixPath('../part0_python_intro/03_useful-std-library-modules.ipynb'),\n",
       " PosixPath('../part0_python_intro/05_numpy.ipynb'),\n",
       " PosixPath('../part0_python_intro/06b_matplotlib_animation.ipynb'),\n",
       " PosixPath('../part0_python_intro/09_a_Geopandas.ipynb'),\n",
       " PosixPath('../part0_python_intro/09_b_Geopandas_ABQ.ipynb'),\n",
       " PosixPath('../part0_python_intro/10_Rasterio.ipynb'),\n",
       " PosixPath('../part0_python_intro/11_xarray_mt_rainier_precip.ipynb'),\n",
       " PosixPath('../part1_flopy/01-Flopy-intro.ipynb'),\n",
       " PosixPath('../part1_flopy/05-unstructured-grids.ipynb'),\n",
       " PosixPath('../part1_flopy/08_Modflow-setup-demo.ipynb'),\n",
       " PosixPath('../part1_flopy/09-gwt-voronoi-demo.ipynb'),\n",
       " PosixPath('../part1_flopy/10_modpath_particle_tracking-demo.ipynb')]"
      ]
     },
     "execution_count": 6,
     "metadata": {},
     "output_type": "execute_result"
    }
   ],
   "source": [
    "sorted(list(cwd.glob('../*/*.ipynb')))"
   ]
  },
  {
   "cell_type": "markdown",
   "metadata": {},
   "source": [
    "**Note:** There is also a glob module in the standard python library that works directly with string paths"
   ]
  },
  {
   "cell_type": "code",
   "execution_count": 7,
   "metadata": {
    "execution": {
     "iopub.execute_input": "2025-05-19T23:55:13.309361Z",
     "iopub.status.busy": "2025-05-19T23:55:13.309100Z",
     "iopub.status.idle": "2025-05-19T23:55:13.312776Z",
     "shell.execute_reply": "2025-05-19T23:55:13.312287Z"
    }
   },
   "outputs": [
    {
     "data": {
      "text/plain": [
       "['../part0_python_intro/00_python_basics_review.ipynb',\n",
       " '../part0_python_intro/03_useful-std-library-modules.ipynb',\n",
       " '../part0_python_intro/05_numpy.ipynb',\n",
       " '../part0_python_intro/06b_matplotlib_animation.ipynb',\n",
       " '../part0_python_intro/09_a_Geopandas.ipynb',\n",
       " '../part0_python_intro/09_b_Geopandas_ABQ.ipynb',\n",
       " '../part0_python_intro/10_Rasterio.ipynb',\n",
       " '../part0_python_intro/11_xarray_mt_rainier_precip.ipynb',\n",
       " '../part1_flopy/01-Flopy-intro.ipynb',\n",
       " '../part1_flopy/05-unstructured-grids.ipynb',\n",
       " '../part1_flopy/08_Modflow-setup-demo.ipynb',\n",
       " '../part1_flopy/09-gwt-voronoi-demo.ipynb',\n",
       " '../part1_flopy/10_modpath_particle_tracking-demo.ipynb']"
      ]
     },
     "execution_count": 7,
     "metadata": {},
     "output_type": "execute_result"
    }
   ],
   "source": [
    "import glob\n",
    "sorted(list(glob.glob('../*/*.ipynb')))"
   ]
  },
  {
   "cell_type": "markdown",
   "metadata": {},
   "source": [
    "#### List just the subfolders"
   ]
  },
  {
   "cell_type": "code",
   "execution_count": 8,
   "metadata": {
    "execution": {
     "iopub.execute_input": "2025-05-19T23:55:13.314205Z",
     "iopub.status.busy": "2025-05-19T23:55:13.313940Z",
     "iopub.status.idle": "2025-05-19T23:55:13.317677Z",
     "shell.execute_reply": "2025-05-19T23:55:13.317178Z"
    }
   },
   "outputs": [
    {
     "data": {
      "text/plain": [
       "[PosixPath('solutions'), PosixPath('data')]"
      ]
     },
     "execution_count": 8,
     "metadata": {},
     "output_type": "execute_result"
    }
   ],
   "source": [
    "[f for f in cwd.iterdir() if f.is_dir()]"
   ]
  },
  {
   "cell_type": "markdown",
   "metadata": {},
   "source": [
    "#### Create a new path for the data subfolder"
   ]
  },
  {
   "cell_type": "code",
   "execution_count": 9,
   "metadata": {
    "execution": {
     "iopub.execute_input": "2025-05-19T23:55:13.319213Z",
     "iopub.status.busy": "2025-05-19T23:55:13.318826Z",
     "iopub.status.idle": "2025-05-19T23:55:13.322035Z",
     "shell.execute_reply": "2025-05-19T23:55:13.321591Z"
    }
   },
   "outputs": [
    {
     "data": {
      "text/plain": [
       "PosixPath('data')"
      ]
     },
     "execution_count": 9,
     "metadata": {},
     "output_type": "execute_result"
    }
   ],
   "source": [
    "data_path = cwd / 'data'\n",
    "data_path"
   ]
  },
  {
   "cell_type": "markdown",
   "metadata": {},
   "source": [
    "#### or an individual file"
   ]
  },
  {
   "cell_type": "code",
   "execution_count": 10,
   "metadata": {
    "execution": {
     "iopub.execute_input": "2025-05-19T23:55:13.323466Z",
     "iopub.status.busy": "2025-05-19T23:55:13.323206Z",
     "iopub.status.idle": "2025-05-19T23:55:13.326395Z",
     "shell.execute_reply": "2025-05-19T23:55:13.325932Z"
    }
   },
   "outputs": [
    {
     "data": {
      "text/plain": [
       "PosixPath('00_python_basics_review.ipynb')"
      ]
     },
     "execution_count": 10,
     "metadata": {},
     "output_type": "execute_result"
    }
   ],
   "source": [
    "f = cwd / '00_python_basics_review.ipynb'\n",
    "f"
   ]
  },
  {
   "cell_type": "markdown",
   "metadata": {},
   "source": [
    "#### check if it exists, or if it's a directory"
   ]
  },
  {
   "cell_type": "code",
   "execution_count": 11,
   "metadata": {
    "execution": {
     "iopub.execute_input": "2025-05-19T23:55:13.327895Z",
     "iopub.status.busy": "2025-05-19T23:55:13.327544Z",
     "iopub.status.idle": "2025-05-19T23:55:13.330858Z",
     "shell.execute_reply": "2025-05-19T23:55:13.330389Z"
    }
   },
   "outputs": [
    {
     "data": {
      "text/plain": [
       "(True, False)"
      ]
     },
     "execution_count": 11,
     "metadata": {},
     "output_type": "execute_result"
    }
   ],
   "source": [
    "f.exists(), f.is_dir()"
   ]
  },
  {
   "cell_type": "markdown",
   "metadata": {},
   "source": [
    "### Creating files and folders\n",
    "\n",
    "#### make a new subdirectory"
   ]
  },
  {
   "cell_type": "code",
   "execution_count": 12,
   "metadata": {
    "execution": {
     "iopub.execute_input": "2025-05-19T23:55:13.332299Z",
     "iopub.status.busy": "2025-05-19T23:55:13.332021Z",
     "iopub.status.idle": "2025-05-19T23:55:13.335195Z",
     "shell.execute_reply": "2025-05-19T23:55:13.334735Z"
    }
   },
   "outputs": [
    {
     "data": {
      "text/plain": [
       "PosixPath('more_files')"
      ]
     },
     "execution_count": 12,
     "metadata": {},
     "output_type": "execute_result"
    }
   ],
   "source": [
    "new_folder = cwd / 'more_files'\n",
    "new_folder"
   ]
  },
  {
   "cell_type": "code",
   "execution_count": 13,
   "metadata": {
    "execution": {
     "iopub.execute_input": "2025-05-19T23:55:13.336749Z",
     "iopub.status.busy": "2025-05-19T23:55:13.336387Z",
     "iopub.status.idle": "2025-05-19T23:55:13.339643Z",
     "shell.execute_reply": "2025-05-19T23:55:13.339174Z"
    }
   },
   "outputs": [
    {
     "data": {
      "text/plain": [
       "False"
      ]
     },
     "execution_count": 13,
     "metadata": {},
     "output_type": "execute_result"
    }
   ],
   "source": [
    "new_folder.exists()"
   ]
  },
  {
   "cell_type": "code",
   "execution_count": 14,
   "metadata": {
    "execution": {
     "iopub.execute_input": "2025-05-19T23:55:13.341003Z",
     "iopub.status.busy": "2025-05-19T23:55:13.340852Z",
     "iopub.status.idle": "2025-05-19T23:55:13.344022Z",
     "shell.execute_reply": "2025-05-19T23:55:13.343663Z"
    }
   },
   "outputs": [
    {
     "data": {
      "text/plain": [
       "True"
      ]
     },
     "execution_count": 14,
     "metadata": {},
     "output_type": "execute_result"
    }
   ],
   "source": [
    "new_folder.mkdir(); new_folder.exists()"
   ]
  },
  {
   "cell_type": "markdown",
   "metadata": {},
   "source": [
    "Note that if you try to run the above cell twice, you'll get an error that the folder already exists\n",
    "``exist_ok=True`` suppresses these errors."
   ]
  },
  {
   "cell_type": "code",
   "execution_count": 15,
   "metadata": {
    "execution": {
     "iopub.execute_input": "2025-05-19T23:55:13.345346Z",
     "iopub.status.busy": "2025-05-19T23:55:13.345181Z",
     "iopub.status.idle": "2025-05-19T23:55:13.347438Z",
     "shell.execute_reply": "2025-05-19T23:55:13.347048Z"
    }
   },
   "outputs": [],
   "source": [
    "new_folder.mkdir(exist_ok=True)"
   ]
  },
  {
   "cell_type": "markdown",
   "metadata": {},
   "source": [
    "#### make a new subfolder within a new subfolder\n",
    "The ``parents=True`` argument allows for making subfolders within new subfolders"
   ]
  },
  {
   "cell_type": "code",
   "execution_count": 16,
   "metadata": {
    "execution": {
     "iopub.execute_input": "2025-05-19T23:55:13.348930Z",
     "iopub.status.busy": "2025-05-19T23:55:13.348780Z",
     "iopub.status.idle": "2025-05-19T23:55:13.351429Z",
     "shell.execute_reply": "2025-05-19T23:55:13.350957Z"
    }
   },
   "outputs": [],
   "source": [
    "(new_folder / 'subfolder').mkdir(exist_ok=True, parents=True)"
   ]
  },
  {
   "cell_type": "markdown",
   "metadata": {},
   "source": [
    "### absolute vs. relative pathing\n",
    "\n",
    "Get the absolute location of the current working directory"
   ]
  },
  {
   "cell_type": "code",
   "execution_count": 17,
   "metadata": {
    "execution": {
     "iopub.execute_input": "2025-05-19T23:55:13.352794Z",
     "iopub.status.busy": "2025-05-19T23:55:13.352647Z",
     "iopub.status.idle": "2025-05-19T23:55:13.355927Z",
     "shell.execute_reply": "2025-05-19T23:55:13.355545Z"
    }
   },
   "outputs": [
    {
     "data": {
      "text/plain": [
       "PosixPath('/home/runner/work/python-for-hydrology/python-for-hydrology/docs/source/notebooks/part0_python_intro')"
      ]
     },
     "execution_count": 17,
     "metadata": {},
     "output_type": "execute_result"
    }
   ],
   "source": [
    "abs_cwd = Path.cwd()\n",
    "abs_cwd"
   ]
  },
  {
   "cell_type": "markdown",
   "metadata": {},
   "source": [
    "Go up two levels to the course repository"
   ]
  },
  {
   "cell_type": "code",
   "execution_count": 18,
   "metadata": {
    "execution": {
     "iopub.execute_input": "2025-05-19T23:55:13.357245Z",
     "iopub.status.busy": "2025-05-19T23:55:13.357100Z",
     "iopub.status.idle": "2025-05-19T23:55:13.360429Z",
     "shell.execute_reply": "2025-05-19T23:55:13.359928Z"
    }
   },
   "outputs": [
    {
     "data": {
      "text/plain": [
       "PosixPath('/home/runner/work/python-for-hydrology/python-for-hydrology/docs/source/notebooks/part0_python_intro/../..')"
      ]
     },
     "execution_count": 18,
     "metadata": {},
     "output_type": "execute_result"
    }
   ],
   "source": [
    "class_root = (abs_cwd / '../../')\n",
    "class_root"
   ]
  },
  {
   "cell_type": "markdown",
   "metadata": {},
   "source": [
    "Simplify or resolve the path"
   ]
  },
  {
   "cell_type": "code",
   "execution_count": 19,
   "metadata": {
    "execution": {
     "iopub.execute_input": "2025-05-19T23:55:13.361807Z",
     "iopub.status.busy": "2025-05-19T23:55:13.361658Z",
     "iopub.status.idle": "2025-05-19T23:55:13.365077Z",
     "shell.execute_reply": "2025-05-19T23:55:13.364623Z"
    }
   },
   "outputs": [
    {
     "data": {
      "text/plain": [
       "PosixPath('/home/runner/work/python-for-hydrology/python-for-hydrology/docs/source')"
      ]
     },
     "execution_count": 19,
     "metadata": {},
     "output_type": "execute_result"
    }
   ],
   "source": [
    "class_root = class_root.resolve()\n",
    "class_root"
   ]
  },
  {
   "cell_type": "markdown",
   "metadata": {},
   "source": [
    "Get the cwd relative to the course repository"
   ]
  },
  {
   "cell_type": "code",
   "execution_count": 20,
   "metadata": {
    "execution": {
     "iopub.execute_input": "2025-05-19T23:55:13.366408Z",
     "iopub.status.busy": "2025-05-19T23:55:13.366245Z",
     "iopub.status.idle": "2025-05-19T23:55:13.369487Z",
     "shell.execute_reply": "2025-05-19T23:55:13.369084Z"
    }
   },
   "outputs": [
    {
     "data": {
      "text/plain": [
       "PosixPath('notebooks/part0_python_intro')"
      ]
     },
     "execution_count": 20,
     "metadata": {},
     "output_type": "execute_result"
    }
   ],
   "source": [
    "abs_cwd.relative_to(class_root)"
   ]
  },
  {
   "cell_type": "markdown",
   "metadata": {},
   "source": [
    "check if this is an absolute or relative path"
   ]
  },
  {
   "cell_type": "code",
   "execution_count": 21,
   "metadata": {
    "execution": {
     "iopub.execute_input": "2025-05-19T23:55:13.370795Z",
     "iopub.status.busy": "2025-05-19T23:55:13.370650Z",
     "iopub.status.idle": "2025-05-19T23:55:13.373909Z",
     "shell.execute_reply": "2025-05-19T23:55:13.373430Z"
    }
   },
   "outputs": [
    {
     "data": {
      "text/plain": [
       "False"
      ]
     },
     "execution_count": 21,
     "metadata": {},
     "output_type": "execute_result"
    }
   ],
   "source": [
    "abs_cwd.relative_to(class_root).is_absolute()"
   ]
  },
  {
   "cell_type": "code",
   "execution_count": 22,
   "metadata": {
    "execution": {
     "iopub.execute_input": "2025-05-19T23:55:13.375477Z",
     "iopub.status.busy": "2025-05-19T23:55:13.375272Z",
     "iopub.status.idle": "2025-05-19T23:55:13.378475Z",
     "shell.execute_reply": "2025-05-19T23:55:13.378089Z"
    }
   },
   "outputs": [
    {
     "data": {
      "text/plain": [
       "True"
      ]
     },
     "execution_count": 22,
     "metadata": {},
     "output_type": "execute_result"
    }
   ],
   "source": [
    "abs_cwd.is_absolute()"
   ]
  },
  {
   "cell_type": "markdown",
   "metadata": {},
   "source": [
    "**gottcha:** `Path.relative_to()` only works when the first path is a subpath of the second path, or if both paths are absolute\n",
    "\n",
    "For example, try executing this line: \n",
    "\n",
    "```python\n",
    "Path('../part1_flopy/').relative_to('data')\n",
    "```"
   ]
  },
  {
   "cell_type": "markdown",
   "metadata": {},
   "source": [
    "If you need a relative path that will work robustly in a script, `os.path.relpath` might be a better choice"
   ]
  },
  {
   "cell_type": "code",
   "execution_count": 23,
   "metadata": {
    "execution": {
     "iopub.execute_input": "2025-05-19T23:55:13.379758Z",
     "iopub.status.busy": "2025-05-19T23:55:13.379612Z",
     "iopub.status.idle": "2025-05-19T23:55:13.382811Z",
     "shell.execute_reply": "2025-05-19T23:55:13.382339Z"
    }
   },
   "outputs": [
    {
     "data": {
      "text/plain": [
       "'../../part1_flopy'"
      ]
     },
     "execution_count": 23,
     "metadata": {},
     "output_type": "execute_result"
    }
   ],
   "source": [
    "os.path.relpath('../part1_flopy/', 'data')"
   ]
  },
  {
   "cell_type": "code",
   "execution_count": 24,
   "metadata": {
    "execution": {
     "iopub.execute_input": "2025-05-19T23:55:13.384468Z",
     "iopub.status.busy": "2025-05-19T23:55:13.384053Z",
     "iopub.status.idle": "2025-05-19T23:55:13.387619Z",
     "shell.execute_reply": "2025-05-19T23:55:13.387146Z"
    }
   },
   "outputs": [
    {
     "data": {
      "text/plain": [
       "'../part0_python_intro/data'"
      ]
     },
     "execution_count": 24,
     "metadata": {},
     "output_type": "execute_result"
    }
   ],
   "source": [
    "os.path.relpath('data', '../part1_flopy/')"
   ]
  },
  {
   "cell_type": "markdown",
   "metadata": {},
   "source": [
    "### useful attributes"
   ]
  },
  {
   "cell_type": "code",
   "execution_count": 25,
   "metadata": {
    "execution": {
     "iopub.execute_input": "2025-05-19T23:55:13.389140Z",
     "iopub.status.busy": "2025-05-19T23:55:13.388855Z",
     "iopub.status.idle": "2025-05-19T23:55:13.391984Z",
     "shell.execute_reply": "2025-05-19T23:55:13.391502Z"
    }
   },
   "outputs": [
    {
     "data": {
      "text/plain": [
       "PosixPath('/home/runner/work/python-for-hydrology/python-for-hydrology/docs/source/notebooks')"
      ]
     },
     "execution_count": 25,
     "metadata": {},
     "output_type": "execute_result"
    }
   ],
   "source": [
    "abs_cwd.parent"
   ]
  },
  {
   "cell_type": "code",
   "execution_count": 26,
   "metadata": {
    "execution": {
     "iopub.execute_input": "2025-05-19T23:55:13.393626Z",
     "iopub.status.busy": "2025-05-19T23:55:13.393229Z",
     "iopub.status.idle": "2025-05-19T23:55:13.396608Z",
     "shell.execute_reply": "2025-05-19T23:55:13.396199Z"
    }
   },
   "outputs": [
    {
     "data": {
      "text/plain": [
       "PosixPath('/home/runner/work/python-for-hydrology/python-for-hydrology/docs/source')"
      ]
     },
     "execution_count": 26,
     "metadata": {},
     "output_type": "execute_result"
    }
   ],
   "source": [
    "abs_cwd.parent.parent"
   ]
  },
  {
   "cell_type": "code",
   "execution_count": 27,
   "metadata": {
    "execution": {
     "iopub.execute_input": "2025-05-19T23:55:13.398041Z",
     "iopub.status.busy": "2025-05-19T23:55:13.397748Z",
     "iopub.status.idle": "2025-05-19T23:55:13.400853Z",
     "shell.execute_reply": "2025-05-19T23:55:13.400390Z"
    }
   },
   "outputs": [
    {
     "data": {
      "text/plain": [
       "'00_python_basics_review.ipynb'"
      ]
     },
     "execution_count": 27,
     "metadata": {},
     "output_type": "execute_result"
    }
   ],
   "source": [
    "f.name"
   ]
  },
  {
   "cell_type": "code",
   "execution_count": 28,
   "metadata": {
    "execution": {
     "iopub.execute_input": "2025-05-19T23:55:13.402199Z",
     "iopub.status.busy": "2025-05-19T23:55:13.402055Z",
     "iopub.status.idle": "2025-05-19T23:55:13.405271Z",
     "shell.execute_reply": "2025-05-19T23:55:13.404783Z"
    }
   },
   "outputs": [
    {
     "data": {
      "text/plain": [
       "'.ipynb'"
      ]
     },
     "execution_count": 28,
     "metadata": {},
     "output_type": "execute_result"
    }
   ],
   "source": [
    "f.suffix"
   ]
  },
  {
   "cell_type": "code",
   "execution_count": 29,
   "metadata": {
    "execution": {
     "iopub.execute_input": "2025-05-19T23:55:13.406846Z",
     "iopub.status.busy": "2025-05-19T23:55:13.406461Z",
     "iopub.status.idle": "2025-05-19T23:55:13.409785Z",
     "shell.execute_reply": "2025-05-19T23:55:13.409298Z"
    }
   },
   "outputs": [
    {
     "data": {
      "text/plain": [
       "PosixPath('00_python_basics_review.junk')"
      ]
     },
     "execution_count": 29,
     "metadata": {},
     "output_type": "execute_result"
    }
   ],
   "source": [
    "f.with_suffix('.junk')"
   ]
  },
  {
   "cell_type": "code",
   "execution_count": 30,
   "metadata": {
    "execution": {
     "iopub.execute_input": "2025-05-19T23:55:13.411072Z",
     "iopub.status.busy": "2025-05-19T23:55:13.410939Z",
     "iopub.status.idle": "2025-05-19T23:55:13.414064Z",
     "shell.execute_reply": "2025-05-19T23:55:13.413576Z"
    }
   },
   "outputs": [
    {
     "data": {
      "text/plain": [
       "'00_python_basics_review'"
      ]
     },
     "execution_count": 30,
     "metadata": {},
     "output_type": "execute_result"
    }
   ],
   "source": [
    "f.stem"
   ]
  },
  {
   "cell_type": "markdown",
   "metadata": {},
   "source": [
    "### Moving and deleting files\n",
    "\n",
    "Make a file"
   ]
  },
  {
   "cell_type": "code",
   "execution_count": 31,
   "metadata": {
    "execution": {
     "iopub.execute_input": "2025-05-19T23:55:13.415485Z",
     "iopub.status.busy": "2025-05-19T23:55:13.415346Z",
     "iopub.status.idle": "2025-05-19T23:55:13.418015Z",
     "shell.execute_reply": "2025-05-19T23:55:13.417627Z"
    }
   },
   "outputs": [],
   "source": [
    "fname = Path('new_file.txt')\n",
    "with open(fname, 'w') as dest:\n",
    "    dest.write(\"A new text file.\")"
   ]
  },
  {
   "cell_type": "code",
   "execution_count": 32,
   "metadata": {
    "execution": {
     "iopub.execute_input": "2025-05-19T23:55:13.419384Z",
     "iopub.status.busy": "2025-05-19T23:55:13.419120Z",
     "iopub.status.idle": "2025-05-19T23:55:13.422353Z",
     "shell.execute_reply": "2025-05-19T23:55:13.421887Z"
    }
   },
   "outputs": [
    {
     "data": {
      "text/plain": [
       "True"
      ]
     },
     "execution_count": 32,
     "metadata": {},
     "output_type": "execute_result"
    }
   ],
   "source": [
    "fname.exists()"
   ]
  },
  {
   "cell_type": "markdown",
   "metadata": {},
   "source": [
    "Move the file"
   ]
  },
  {
   "cell_type": "code",
   "execution_count": 33,
   "metadata": {
    "execution": {
     "iopub.execute_input": "2025-05-19T23:55:13.423863Z",
     "iopub.status.busy": "2025-05-19T23:55:13.423508Z",
     "iopub.status.idle": "2025-05-19T23:55:13.426810Z",
     "shell.execute_reply": "2025-05-19T23:55:13.426434Z"
    }
   },
   "outputs": [
    {
     "data": {
      "text/plain": [
       "PosixPath('new_file2.txt')"
      ]
     },
     "execution_count": 33,
     "metadata": {},
     "output_type": "execute_result"
    }
   ],
   "source": [
    "fname2 = Path('new_file2.txt')\n",
    "fname.rename(fname2)"
   ]
  },
  {
   "cell_type": "code",
   "execution_count": 34,
   "metadata": {
    "execution": {
     "iopub.execute_input": "2025-05-19T23:55:13.428124Z",
     "iopub.status.busy": "2025-05-19T23:55:13.427986Z",
     "iopub.status.idle": "2025-05-19T23:55:13.431212Z",
     "shell.execute_reply": "2025-05-19T23:55:13.430751Z"
    }
   },
   "outputs": [
    {
     "data": {
      "text/plain": [
       "False"
      ]
     },
     "execution_count": 34,
     "metadata": {},
     "output_type": "execute_result"
    }
   ],
   "source": [
    "fname.exists()"
   ]
  },
  {
   "cell_type": "markdown",
   "metadata": {},
   "source": [
    "Delete the file"
   ]
  },
  {
   "cell_type": "code",
   "execution_count": 35,
   "metadata": {
    "execution": {
     "iopub.execute_input": "2025-05-19T23:55:13.432676Z",
     "iopub.status.busy": "2025-05-19T23:55:13.432525Z",
     "iopub.status.idle": "2025-05-19T23:55:13.434812Z",
     "shell.execute_reply": "2025-05-19T23:55:13.434445Z"
    }
   },
   "outputs": [],
   "source": [
    "fname2.unlink()"
   ]
  },
  {
   "cell_type": "code",
   "execution_count": 36,
   "metadata": {
    "execution": {
     "iopub.execute_input": "2025-05-19T23:55:13.436265Z",
     "iopub.status.busy": "2025-05-19T23:55:13.435976Z",
     "iopub.status.idle": "2025-05-19T23:55:13.439154Z",
     "shell.execute_reply": "2025-05-19T23:55:13.438701Z"
    }
   },
   "outputs": [
    {
     "data": {
      "text/plain": [
       "False"
      ]
     },
     "execution_count": 36,
     "metadata": {},
     "output_type": "execute_result"
    }
   ],
   "source": [
    "fname2.exists()"
   ]
  },
  {
   "cell_type": "markdown",
   "metadata": {},
   "source": [
    "#### Delete the empty folder we made above\n",
    "Note: this only works for empty directories (use ``shutil.rmtree()`` very carefully for removing folders and all contents within)"
   ]
  },
  {
   "cell_type": "code",
   "execution_count": 37,
   "metadata": {
    "execution": {
     "iopub.execute_input": "2025-05-19T23:55:13.440498Z",
     "iopub.status.busy": "2025-05-19T23:55:13.440353Z",
     "iopub.status.idle": "2025-05-19T23:55:13.442880Z",
     "shell.execute_reply": "2025-05-19T23:55:13.442410Z"
    }
   },
   "outputs": [],
   "source": [
    "Path('more_files/subfolder/').rmdir()"
   ]
  },
  {
   "cell_type": "markdown",
   "metadata": {},
   "source": [
    "## ``shutil`` — High-level file operations\n",
    "module for copying, moving, and deleting files and directories.\n",
    "\n",
    "https://docs.python.org/3/library/shutil.html\n",
    "\n",
    "The functions from shutil that you may find useful are:\n",
    "\n",
    "    shutil.copy()\n",
    "    shutil.copy2()  # this preserves most metadata (i.e. dates); unlike copy()\n",
    "    shutil.copytree()\n",
    "    shutil.move()\n",
    "    shutil.rmtree()  #obviously, you need to be careful with this one!\n",
    "    \n",
    "Give these guys a shot and see what they do.  Remember, you can always get help by typing:\n",
    "\n",
    "    help(shutil.copy)\n"
   ]
  },
  {
   "cell_type": "code",
   "execution_count": 38,
   "metadata": {
    "execution": {
     "iopub.execute_input": "2025-05-19T23:55:13.444565Z",
     "iopub.status.busy": "2025-05-19T23:55:13.444158Z",
     "iopub.status.idle": "2025-05-19T23:55:13.446469Z",
     "shell.execute_reply": "2025-05-19T23:55:13.446076Z"
    }
   },
   "outputs": [],
   "source": [
    "#try them here.  Be careful!"
   ]
  },
  {
   "cell_type": "code",
   "execution_count": 39,
   "metadata": {
    "execution": {
     "iopub.execute_input": "2025-05-19T23:55:13.447723Z",
     "iopub.status.busy": "2025-05-19T23:55:13.447590Z",
     "iopub.status.idle": "2025-05-19T23:55:13.449991Z",
     "shell.execute_reply": "2025-05-19T23:55:13.449599Z"
    }
   },
   "outputs": [],
   "source": [
    "shutil.rmtree(new_folder)"
   ]
  },
  {
   "cell_type": "markdown",
   "metadata": {},
   "source": [
    "## ``sys`` — System-specific parameters and functions\n",
    "\n",
    "### Getting information about python and the os\n",
    "where python is installed"
   ]
  },
  {
   "cell_type": "code",
   "execution_count": 40,
   "metadata": {
    "execution": {
     "iopub.execute_input": "2025-05-19T23:55:13.451295Z",
     "iopub.status.busy": "2025-05-19T23:55:13.451142Z",
     "iopub.status.idle": "2025-05-19T23:55:13.453886Z",
     "shell.execute_reply": "2025-05-19T23:55:13.453477Z"
    }
   },
   "outputs": [
    {
     "name": "stdout",
     "output_type": "stream",
     "text": [
      "/home/runner/micromamba/envs/pyclass-docs\n"
     ]
    }
   ],
   "source": [
    "print(sys.prefix)"
   ]
  },
  {
   "cell_type": "code",
   "execution_count": 41,
   "metadata": {
    "execution": {
     "iopub.execute_input": "2025-05-19T23:55:13.455279Z",
     "iopub.status.busy": "2025-05-19T23:55:13.455131Z",
     "iopub.status.idle": "2025-05-19T23:55:13.457458Z",
     "shell.execute_reply": "2025-05-19T23:55:13.457066Z"
    }
   },
   "outputs": [
    {
     "name": "stdout",
     "output_type": "stream",
     "text": [
      "sys.version_info(major=3, minor=11, micro=12, releaselevel='final', serial=0)\n"
     ]
    }
   ],
   "source": [
    "print(sys.version_info)"
   ]
  },
  {
   "cell_type": "code",
   "execution_count": 42,
   "metadata": {
    "execution": {
     "iopub.execute_input": "2025-05-19T23:55:13.458730Z",
     "iopub.status.busy": "2025-05-19T23:55:13.458583Z",
     "iopub.status.idle": "2025-05-19T23:55:13.461802Z",
     "shell.execute_reply": "2025-05-19T23:55:13.461342Z"
    }
   },
   "outputs": [
    {
     "data": {
      "text/plain": [
       "'linux'"
      ]
     },
     "execution_count": 42,
     "metadata": {},
     "output_type": "execute_result"
    }
   ],
   "source": [
    "sys.platform"
   ]
  },
  {
   "cell_type": "markdown",
   "metadata": {},
   "source": [
    "### Adding command line arguments to a script\n",
    "Here the command line arguments reflect that we're running a Juptyer Notebook. \n",
    "\n",
    "In a python script, command line arguments are listed after the first item in the list."
   ]
  },
  {
   "cell_type": "code",
   "execution_count": 43,
   "metadata": {
    "execution": {
     "iopub.execute_input": "2025-05-19T23:55:13.463241Z",
     "iopub.status.busy": "2025-05-19T23:55:13.463091Z",
     "iopub.status.idle": "2025-05-19T23:55:13.466021Z",
     "shell.execute_reply": "2025-05-19T23:55:13.465663Z"
    }
   },
   "outputs": [
    {
     "data": {
      "text/plain": [
       "['/home/runner/micromamba/envs/pyclass-docs/lib/python3.11/site-packages/ipykernel_launcher.py',\n",
       " '-f',\n",
       " '/tmp/tmpd3a5xxlx.json',\n",
       " '--HistoryManager.hist_file=:memory:']"
      ]
     },
     "execution_count": 43,
     "metadata": {},
     "output_type": "execute_result"
    }
   ],
   "source": [
    "sys.argv"
   ]
  },
  {
   "cell_type": "markdown",
   "metadata": {
    "jp-MarkdownHeadingCollapsed": true
   },
   "source": [
    "### Exercise: Make a script with a command line argument using sys.argv\n",
    "\n",
    "1) Using a text editor such as VSCode, make a new ``*.py`` file with the following contents:\n",
    "\n",
    "```python\n",
    "import sys\n",
    "\n",
    "if len(sys.argv) > 1:\n",
    "    for argument in sys.argv[1:]:\n",
    "        print(argument)\n",
    "else:\n",
    "    print(\"usage is: python <script name>.py argument\")\n",
    "    quit()\n",
    "```\n",
    "\n",
    "2) Try running the script at the command line"
   ]
  },
  {
   "cell_type": "markdown",
   "metadata": {},
   "source": [
    "### modifying the python path\n",
    "\n",
    "If you haven't seen `sys.path` already mentioned in a python script, you will soon.  `sys.path` is a list of directories.  This path list is used by python to search for python modules and packages.  If for some reason, you want to use a python package or  module that is not installed in the main python folder, you can add the directory containing your module to sys.path.\n",
    "\n",
    "Any packages installed by linking the source code in place (i.e. ``pip install -e .`` will also show up here."
   ]
  },
  {
   "cell_type": "code",
   "execution_count": 44,
   "metadata": {
    "execution": {
     "iopub.execute_input": "2025-05-19T23:55:13.467370Z",
     "iopub.status.busy": "2025-05-19T23:55:13.467208Z",
     "iopub.status.idle": "2025-05-19T23:55:13.469650Z",
     "shell.execute_reply": "2025-05-19T23:55:13.469259Z"
    }
   },
   "outputs": [
    {
     "name": "stdout",
     "output_type": "stream",
     "text": [
      "/home/runner/micromamba/envs/pyclass-docs/lib/python311.zip\n",
      "/home/runner/micromamba/envs/pyclass-docs/lib/python3.11\n",
      "/home/runner/micromamba/envs/pyclass-docs/lib/python3.11/lib-dynload\n",
      "\n",
      "/home/runner/micromamba/envs/pyclass-docs/lib/python3.11/site-packages\n"
     ]
    }
   ],
   "source": [
    "for pth in sys.path:\n",
    "    print(pth)"
   ]
  },
  {
   "cell_type": "markdown",
   "metadata": {},
   "source": [
    "### Using ``sys.path`` to import code from an arbitrary location\n",
    "\n",
    "1) Using a text editor such as VSCode (or ``pathlib`` and python) make a new ``*.py`` file in another folder (anything in the same folder as this notebook can already be imported). For example:"
   ]
  },
  {
   "cell_type": "code",
   "execution_count": 45,
   "metadata": {
    "execution": {
     "iopub.execute_input": "2025-05-19T23:55:13.470963Z",
     "iopub.status.busy": "2025-05-19T23:55:13.470818Z",
     "iopub.status.idle": "2025-05-19T23:55:13.473787Z",
     "shell.execute_reply": "2025-05-19T23:55:13.473405Z"
    }
   },
   "outputs": [],
   "source": [
    "subfolder = Path('another_subfolder/scripts')\n",
    "subfolder.mkdir(exist_ok=True, parents=True)\n",
    "\n",
    "with open(subfolder / 'mycode.py', 'w') as dest:\n",
    "    dest.write(\"stuff = {'this is': 'a dictionary'}\")"
   ]
  },
  {
   "cell_type": "markdown",
   "metadata": {},
   "source": [
    "Now add this folder to the python path"
   ]
  },
  {
   "cell_type": "code",
   "execution_count": 46,
   "metadata": {
    "execution": {
     "iopub.execute_input": "2025-05-19T23:55:13.475115Z",
     "iopub.status.busy": "2025-05-19T23:55:13.474970Z",
     "iopub.status.idle": "2025-05-19T23:55:13.477405Z",
     "shell.execute_reply": "2025-05-19T23:55:13.476999Z"
    }
   },
   "outputs": [],
   "source": [
    "sys.path.append('another_subfolder/scripts')"
   ]
  },
  {
   "cell_type": "markdown",
   "metadata": {},
   "source": [
    "Code can be imported by calling the containing module"
   ]
  },
  {
   "cell_type": "code",
   "execution_count": 47,
   "metadata": {
    "execution": {
     "iopub.execute_input": "2025-05-19T23:55:13.478689Z",
     "iopub.status.busy": "2025-05-19T23:55:13.478547Z",
     "iopub.status.idle": "2025-05-19T23:55:13.482129Z",
     "shell.execute_reply": "2025-05-19T23:55:13.481670Z"
    }
   },
   "outputs": [
    {
     "data": {
      "text/plain": [
       "{'this is': 'a dictionary'}"
      ]
     },
     "execution_count": 47,
     "metadata": {},
     "output_type": "execute_result"
    }
   ],
   "source": [
    "from mycode import stuff\n",
    "\n",
    "stuff"
   ]
  },
  {
   "cell_type": "markdown",
   "metadata": {},
   "source": [
    "**Note**: Generally, importing code using ``sys.path`` is considered bad practice, because \n",
    "\n",
    "* it can hide dependencies.    \n",
    "\n",
    "    * from the information above, we don't know whether ``mycode`` is a package that is installed, a module in the current folder, or anywhere else for that matter.\n",
    "    * Similarly, we know that any modules from ``'another_subfolder/scripts'`` can be imported, but we don't know which modules in that folder are needed without some additional checking.\n",
    "\n",
    "* importing code using ``sys.path`` is also sensitive to the location of the script relative to the path. If the script is moved or used on someone else's computer with a different file structure, it'll break.\n",
    "\n",
    "In general, [installing reusable code in a package is the best way to go](https://nsls-ii.github.io/scientific-python-cookiecutter/). Packages provide a framework for organizing, documenting, testing and sharing code in a way that is easily understood by others.\n",
    "\n",
    "Whatever you do, avoid importing with an `*` (i.e. ``from mycode import *``) at all costs. This imports everything from the namespace of a module, which can lead to unintended consequences."
   ]
  },
  {
   "cell_type": "markdown",
   "metadata": {},
   "source": [
    "## ``os`` — Miscellaneous operating system interfaces¶\n",
    "Historically, the ``os.path`` module was the de facto standard for file and path manipulation. Since python 3.4 however, ``pathlib`` is generally cleaner and easier to use for most of these operations. But there are some exceptions.\n",
    "\n",
    "### Changing the current working directory\n",
    "``pathlib`` doesn't do this.   \n",
    "Note: this can obviously lead to trouble in scripts, so should usually be avoided, but sometimes it is necessary."
   ]
  },
  {
   "cell_type": "code",
   "execution_count": 48,
   "metadata": {
    "execution": {
     "iopub.execute_input": "2025-05-19T23:55:13.483725Z",
     "iopub.status.busy": "2025-05-19T23:55:13.483316Z",
     "iopub.status.idle": "2025-05-19T23:55:13.486788Z",
     "shell.execute_reply": "2025-05-19T23:55:13.486336Z"
    }
   },
   "outputs": [
    {
     "name": "stdout",
     "output_type": "stream",
     "text": [
      "Now in:  /home/runner/work/python-for-hydrology/python-for-hydrology/docs/source/notebooks\n",
      "Switched back to:  /home/runner/work/python-for-hydrology/python-for-hydrology/docs/source/notebooks/part0_python_intro\n"
     ]
    }
   ],
   "source": [
    "# Example of changing the working directory\n",
    "old_wd = os.getcwd()\n",
    "\n",
    "# Go up one directory\n",
    "os.chdir('..')\n",
    "cwd = os.getcwd()\n",
    "print ('Now in: ', cwd)\n",
    "\n",
    "# Change back to original\n",
    "os.chdir(old_wd)\n",
    "cwd = os.getcwd()\n",
    "print('Switched back to: ', cwd)"
   ]
  },
  {
   "cell_type": "markdown",
   "metadata": {},
   "source": [
    "### os.walk\n",
    "\n",
    "os.walk() is a great way to recursively generate all the file names and folders in a directory.  The following shows how it can be used to identify large directories."
   ]
  },
  {
   "cell_type": "code",
   "execution_count": 49,
   "metadata": {
    "execution": {
     "iopub.execute_input": "2025-05-19T23:55:13.488175Z",
     "iopub.status.busy": "2025-05-19T23:55:13.488039Z",
     "iopub.status.idle": "2025-05-19T23:55:13.495478Z",
     "shell.execute_reply": "2025-05-19T23:55:13.495091Z"
    }
   },
   "outputs": [
    {
     "data": {
      "text/plain": [
       "[('..', ['part1_flopy', 'part0_python_intro'], []),\n",
       " ('../part1_flopy',\n",
       "  ['solutions', 'data_project', 'data'],\n",
       "  ['01-Flopy-intro.ipynb',\n",
       "   '09-gwt-voronoi-demo.ipynb',\n",
       "   'basin.py',\n",
       "   '05-unstructured-grids.ipynb',\n",
       "   '08_Modflow-setup-demo.ipynb',\n",
       "   '10_modpath_particle_tracking-demo.ipynb']),\n",
       " ('../part1_flopy/solutions',\n",
       "  [],\n",
       "  ['06-Project-structured_completed.ipynb',\n",
       "   '02-Building-Post-Processing-MODFLOW6__solutions.ipynb',\n",
       "   '04_Modelgrid_and_intersection_solution.ipynb',\n",
       "   '03_Loading_and_visualizing_models-solutions.ipynb',\n",
       "   '07-stream_capture_voronoi.ipynb',\n",
       "   '06-Project-quadtree.ipynb',\n",
       "   '06-Project-voronoi.ipynb']),\n",
       " ('../part1_flopy/data_project',\n",
       "  [],\n",
       "  ['Flowline_river.prj',\n",
       "   'aquifer_top.asc',\n",
       "   'active_area.shx',\n",
       "   'aquifer_bottom.asc',\n",
       "   'pumping_well_locations.shp',\n",
       "   'inactive_area.shx',\n",
       "   'inactive_area.shp',\n",
       "   'Flowline_river.shp',\n",
       "   'aquifer_k.asc',\n",
       "   'active_area.shp',\n",
       "   'inactive_area.dbf',\n",
       "   'Flowline_river.shx',\n",
       "   'pumping_well_locations.dbf',\n",
       "   'Flowline_river.dbf',\n",
       "   'active_area.dbf',\n",
       "   'pumping_well_locations.shx']),\n",
       " ('../part1_flopy/data',\n",
       "  ['quadtree',\n",
       "   'pleasant-lake',\n",
       "   'voronoi',\n",
       "   'modelgrid_intersection',\n",
       "   'depletion_results'],\n",
       "  ['flopylogo_sm.png', 'pleasant_lgr_inset.yml', 'pleasant_lgr_parent.yml']),\n",
       " ('../part1_flopy/data/quadtree',\n",
       "  ['grid'],\n",
       "  ['project.cbc',\n",
       "   'project.chd',\n",
       "   'project.disv.grb',\n",
       "   'project.lst',\n",
       "   'project.sfr',\n",
       "   'project.ims',\n",
       "   'project.wel',\n",
       "   'project.rcha',\n",
       "   'project.oc',\n",
       "   'mfsim.lst',\n",
       "   'project.sfr.obs',\n",
       "   'project.disv',\n",
       "   'project.npf',\n",
       "   'project.tdis',\n",
       "   'project.hds',\n",
       "   'mfsim.nam',\n",
       "   'project.nam',\n",
       "   'project.ic',\n",
       "   'sfr_obs.csv']),\n",
       " ('../part1_flopy/data/quadtree/grid',\n",
       "  [],\n",
       "  ['qtg.fldr.dat',\n",
       "   'qtg.c1.dat',\n",
       "   'qtgrid_pt.shp',\n",
       "   'qtg.area.dat',\n",
       "   'qtg.vtu',\n",
       "   '_gridgen_build.dfn',\n",
       "   'qtgrid.dbf',\n",
       "   'qtgrid_pt.shx',\n",
       "   'qtg.ja.dat',\n",
       "   'quadtreegrid.tsf',\n",
       "   'qtg.iac.dat',\n",
       "   'qtg.fahl.dat',\n",
       "   'quadtreegrid.bot1.dat',\n",
       "   'qtgrid.shp',\n",
       "   'qtg_sv.vtu',\n",
       "   'qtg.nodesperlay.dat',\n",
       "   'qtgrid.shx',\n",
       "   'qtgrid_pt.dbf',\n",
       "   'qtg.c2.dat',\n",
       "   'qtg.ia.dat',\n",
       "   'quadtreegrid.dfn',\n",
       "   'quadtreegrid.top1.dat',\n",
       "   '_gridgen_export.dfn',\n",
       "   'qtg.nod',\n",
       "   'qtg.gnc.dat']),\n",
       " ('../part1_flopy/data/pleasant-lake',\n",
       "  ['source_data', 'external'],\n",
       "  ['pleasant.dis',\n",
       "   'pleasant.wel',\n",
       "   'pleasant.chd.obs',\n",
       "   'pleasant.chd',\n",
       "   'pleasant.rcha',\n",
       "   'pleasant.lak.obs',\n",
       "   'pleasant.lak',\n",
       "   'pleasant.ims',\n",
       "   'pleasant.tdis',\n",
       "   'pleasant.sfr.obs',\n",
       "   'pleasant.npf',\n",
       "   'pleasant.sfr',\n",
       "   'pleasant.sto',\n",
       "   'pleasant.hds',\n",
       "   'pleasant.obs',\n",
       "   'pleasant.nam',\n",
       "   'mfsim.nam',\n",
       "   'pleasant.oc',\n",
       "   'pleasant.ic']),\n",
       " ('../part1_flopy/data/pleasant-lake/source_data',\n",
       "  ['tables', 'rasters', 'shps'],\n",
       "  ['PRISM_ppt_tmean_stable_4km_189501_201901_43.9850_-89.5522.csv']),\n",
       " ('../part1_flopy/data/pleasant-lake/source_data/tables',\n",
       "  [],\n",
       "  ['nwis_heads_info_file.csv',\n",
       "   'wgnhs_head_targets.csv',\n",
       "   'gages.csv',\n",
       "   'area_stage_vol_Pleasant.csv',\n",
       "   'lake_sites.csv',\n",
       "   'wdnr_gw_sites.csv',\n",
       "   'uwsp_heads.csv']),\n",
       " ('../part1_flopy/data/pleasant-lake/source_data/rasters',\n",
       "  [],\n",
       "  ['botm1.tif',\n",
       "   'dem40m.tif',\n",
       "   'pleasant_bathymetry.tif',\n",
       "   'botm3.tif',\n",
       "   'botm2.tif',\n",
       "   'botm0.tif']),\n",
       " ('../part1_flopy/data/pleasant-lake/source_data/shps',\n",
       "  ['NHDPlusAttributes', 'NHDSnapshot'],\n",
       "  ['all_lakes.shp',\n",
       "   'all_lakes.dbf',\n",
       "   'all_lakes.shx',\n",
       "   'all_lakes.prj',\n",
       "   'all_lakes.cpg']),\n",
       " ('../part1_flopy/data/pleasant-lake/source_data/shps/NHDPlusAttributes',\n",
       "  [],\n",
       "  ['PlusFlow.dbf',\n",
       "   'elevslope.dbf',\n",
       "   'PlusFlowlineVAA.dbf',\n",
       "   'PlusFlowlineVAA.cpg',\n",
       "   'PlusFlow.cpg',\n",
       "   'elevslope.cpg']),\n",
       " ('../part1_flopy/data/pleasant-lake/source_data/shps/NHDSnapshot',\n",
       "  ['Hydrography'],\n",
       "  []),\n",
       " ('../part1_flopy/data/pleasant-lake/source_data/shps/NHDSnapshot/Hydrography',\n",
       "  [],\n",
       "  ['NHDFlowline.cpg',\n",
       "   'NHDFlowline.shx',\n",
       "   'NHDFlowline.prj',\n",
       "   'NHDFlowline.dbf',\n",
       "   'NHDFlowline.shp']),\n",
       " ('../part1_flopy/data/pleasant-lake/external',\n",
       "  [],\n",
       "  ['k33_000.dat',\n",
       "   'chd_010.dat',\n",
       "   'rch_005.dat',\n",
       "   'rch_002.dat',\n",
       "   'rch_010.dat',\n",
       "   'rch_006.dat',\n",
       "   'sy_002.dat',\n",
       "   'chd_005.dat',\n",
       "   'chd_001.dat',\n",
       "   'chd_004.dat',\n",
       "   'k_001.dat',\n",
       "   'rch_011.dat',\n",
       "   'rch_000.dat',\n",
       "   'strt_000.dat',\n",
       "   'rch_012.dat',\n",
       "   'idomain_002.dat',\n",
       "   'k_003.dat',\n",
       "   'strt_001.dat',\n",
       "   'botm_002.dat',\n",
       "   'strt_002.dat',\n",
       "   'idomain_001.dat',\n",
       "   'rch_001.dat',\n",
       "   'strt_003.dat',\n",
       "   'sy_000.dat',\n",
       "   'wel_008.dat',\n",
       "   'ss_001.dat',\n",
       "   'idomain_003.dat',\n",
       "   'k_002.dat',\n",
       "   'wel_000.dat',\n",
       "   'irch.dat',\n",
       "   'chd_000.dat',\n",
       "   'rch_007.dat',\n",
       "   '600059060_stage_area_volume.dat',\n",
       "   'sy_001.dat',\n",
       "   'k_000.dat',\n",
       "   'k33_002.dat',\n",
       "   'wel_010.dat',\n",
       "   'sy_003.dat',\n",
       "   'k33_001.dat',\n",
       "   'pleasant_top.dat.original',\n",
       "   'rch_009.dat',\n",
       "   'wel_001.dat',\n",
       "   'chd_007.dat',\n",
       "   'top.dat',\n",
       "   'botm_001.dat',\n",
       "   'rch_004.dat',\n",
       "   'chd_006.dat',\n",
       "   'k33_003.dat',\n",
       "   'chd_008.dat',\n",
       "   'ss_002.dat',\n",
       "   'chd_012.dat',\n",
       "   'chd_011.dat',\n",
       "   'botm_000.dat',\n",
       "   'ss_003.dat',\n",
       "   'chd_003.dat',\n",
       "   'ss_000.dat',\n",
       "   'wel_007.dat',\n",
       "   'wel_005.dat',\n",
       "   'wel_009.dat',\n",
       "   'wel_004.dat',\n",
       "   'wel_006.dat',\n",
       "   'chd_009.dat',\n",
       "   'rch_003.dat',\n",
       "   'chd_002.dat',\n",
       "   'botm_003.dat',\n",
       "   'rch_008.dat',\n",
       "   'pleasant_packagedata.dat',\n",
       "   'idomain_000.dat']),\n",
       " ('../part1_flopy/data/voronoi',\n",
       "  ['grid'],\n",
       "  ['project.cbc',\n",
       "   'project.chd',\n",
       "   'project.disv.grb',\n",
       "   'project.lst',\n",
       "   'project.sfr',\n",
       "   'project.ims',\n",
       "   'project.wel',\n",
       "   'project.rcha',\n",
       "   'project.oc',\n",
       "   'mfsim.lst',\n",
       "   'project.sfr.obs',\n",
       "   'project.disv',\n",
       "   'project.npf',\n",
       "   'project.tdis',\n",
       "   'project.hds',\n",
       "   'mfsim.nam',\n",
       "   'project.nam',\n",
       "   'project.ic',\n",
       "   'sfr_obs.csv']),\n",
       " ('../part1_flopy/data/voronoi/grid',\n",
       "  [],\n",
       "  ['_triangle.1.edge',\n",
       "   '_triangle.1.neigh',\n",
       "   '_triangle.0.node',\n",
       "   '_triangle.1.ele',\n",
       "   '_triangle.0.poly',\n",
       "   '_triangle.1.node',\n",
       "   '_triangle.1.poly']),\n",
       " ('../part1_flopy/data/modelgrid_intersection',\n",
       "  [],\n",
       "  ['active_area.prj',\n",
       "   'pet.txt',\n",
       "   'active_area.shx',\n",
       "   'refined_area.shx',\n",
       "   'pet.tif',\n",
       "   'sagehen_main_nhd.prj',\n",
       "   'refined_area.dbf',\n",
       "   'sagehen_nhd.cpg',\n",
       "   'sagehen_basin.dbf',\n",
       "   'sagehen_nhd.shx',\n",
       "   'trib_cells.txt',\n",
       "   'sagehen_nhd.shp',\n",
       "   'sagehen_nhd.dbf',\n",
       "   'sagehen_basin.shp',\n",
       "   'dem_30m.img',\n",
       "   'refined_area.prj',\n",
       "   'active_area.shp',\n",
       "   'sagehen_gage_data.csv',\n",
       "   'ksat.img',\n",
       "   'prcp.tif',\n",
       "   'sagehen_main_nhd.shx',\n",
       "   'refined_area.shp',\n",
       "   'sagehen_main_nhd.shp',\n",
       "   'sagehen_nhd.prj',\n",
       "   'sagehen_basin.cpg',\n",
       "   'sagehen_basin.shx',\n",
       "   'sagehen_main_nhd.dbf',\n",
       "   'sagehen_main_nhd.cpg',\n",
       "   'active_area.dbf',\n",
       "   'sagehen_basin.prj']),\n",
       " ('../part1_flopy/data/depletion_results', [], ['depletion_results.csv']),\n",
       " ('../part0_python_intro',\n",
       "  ['solutions', 'another_subfolder', 'data'],\n",
       "  ['06b_matplotlib_animation.ipynb',\n",
       "   '09_b_Geopandas_ABQ.ipynb',\n",
       "   '10_Rasterio.ipynb',\n",
       "   '07b_VSCode.md',\n",
       "   '00_python_basics_review.ipynb',\n",
       "   '09_a_Geopandas.ipynb',\n",
       "   '03_useful-std-library-modules.ipynb',\n",
       "   '05_numpy.ipynb',\n",
       "   '11_xarray_mt_rainier_precip.ipynb']),\n",
       " ('../part0_python_intro/solutions',\n",
       "  [],\n",
       "  ['04_files_and_strings.ipynb',\n",
       "   '06_matplotlib__solution.ipynb',\n",
       "   '07a_Theis-exercise-solution.ipynb',\n",
       "   '01_functions_script__solution.ipynb',\n",
       "   '05_numpy__solutions.ipynb',\n",
       "   '09_Geopandas__solutions.ipynb',\n",
       "   '03_useful-std-library-modules-solutions.ipynb',\n",
       "   '02_Namespace_objects_modules_packages__solution.ipynb',\n",
       "   '08_pandas.ipynb']),\n",
       " ('../part0_python_intro/another_subfolder', ['scripts'], []),\n",
       " ('../part0_python_intro/another_subfolder/scripts',\n",
       "  ['__pycache__'],\n",
       "  ['mycode.py']),\n",
       " ('../part0_python_intro/another_subfolder/scripts/__pycache__',\n",
       "  [],\n",
       "  ['mycode.cpython-311.pyc']),\n",
       " ('../part0_python_intro/data',\n",
       "  ['geopandas', 'pandas', 'fileio', 'numpy', 'rasterio', 'xarray'],\n",
       "  ['netcdf_data.zip', 'theis_charles_vernon.jpg', 'dream.txt']),\n",
       " ('../part0_python_intro/data/geopandas',\n",
       "  ['abq'],\n",
       "  ['Madison_Parks.geojson',\n",
       "   'Street_Trees.geojson',\n",
       "   'Madison_Tree_Species_Lookup.xlsx',\n",
       "   'Neighborhood_Associations.geojson']),\n",
       " ('../part0_python_intro/data/geopandas/abq',\n",
       "  [],\n",
       "  ['abq_films.geojson', 'zoneatlaspagegrid.kmz']),\n",
       " ('../part0_python_intro/data/pandas',\n",
       "  [],\n",
       "  ['stock_russian.jpg',\n",
       "   'RussianRiverGWsites.csv',\n",
       "   'panda.jpg',\n",
       "   'santa_rosa_CIMIS_83.csv',\n",
       "   'site_info.csv',\n",
       "   'RR_gage_data.csv']),\n",
       " ('../part0_python_intro/data/fileio',\n",
       "  [],\n",
       "  ['FileWithComments.txt', 'friends.txt']),\n",
       " ('../part0_python_intro/data/numpy',\n",
       "  [],\n",
       "  ['mt_st_helens_before.dat',\n",
       "   'bottom.txt',\n",
       "   'mt_st_helens_after.dat',\n",
       "   'bottom.dat',\n",
       "   'ahf.csv',\n",
       "   'bottom_commented.dat']),\n",
       " ('../part0_python_intro/data/rasterio',\n",
       "  [],\n",
       "  ['19700901_ned1_2003_adj_warp.tif',\n",
       "   '20150818_rainier_summer-tile-30.tif',\n",
       "   'rgi60_glacierpoly_rainier.shx',\n",
       "   'rgi60_glacierpoly_rainier.dbf',\n",
       "   '20080901_rainierlidar_30m-adj.tif',\n",
       "   'rgi60_glacierpoly_rainier.prj',\n",
       "   'rgi60_glacierpoly_rainier.shp']),\n",
       " ('../part0_python_intro/data/xarray',\n",
       "  [],\n",
       "  ['aligned-19700901_ned1_2003_adj_4269.tif',\n",
       "   'daymet_prcp_rainier_1980-2018.nc'])]"
      ]
     },
     "execution_count": 49,
     "metadata": {},
     "output_type": "execute_result"
    }
   ],
   "source": [
    "pth = Path('..')\n",
    "results = list(os.walk(pth))\n",
    "results"
   ]
  },
  {
   "cell_type": "markdown",
   "metadata": {},
   "source": [
    "#### Make a more readable list of just the jupyter notebooks\n",
    "Note: the key advantage of ``os.walk`` over ``glob`` is the recursion-- individual subfolder levels don't need to be known or specified a priori."
   ]
  },
  {
   "cell_type": "code",
   "execution_count": 50,
   "metadata": {
    "execution": {
     "iopub.execute_input": "2025-05-19T23:55:13.496903Z",
     "iopub.status.busy": "2025-05-19T23:55:13.496616Z",
     "iopub.status.idle": "2025-05-19T23:55:13.502147Z",
     "shell.execute_reply": "2025-05-19T23:55:13.501750Z"
    }
   },
   "outputs": [
    {
     "name": "stdout",
     "output_type": "stream",
     "text": [
      "../part1_flopy/01-Flopy-intro.ipynb\n",
      "../part1_flopy/09-gwt-voronoi-demo.ipynb\n",
      "../part1_flopy/05-unstructured-grids.ipynb\n",
      "../part1_flopy/08_Modflow-setup-demo.ipynb\n",
      "../part1_flopy/10_modpath_particle_tracking-demo.ipynb\n",
      "../part1_flopy/solutions/06-Project-structured_completed.ipynb\n",
      "../part1_flopy/solutions/02-Building-Post-Processing-MODFLOW6__solutions.ipynb\n",
      "../part1_flopy/solutions/04_Modelgrid_and_intersection_solution.ipynb\n",
      "../part1_flopy/solutions/03_Loading_and_visualizing_models-solutions.ipynb\n",
      "../part1_flopy/solutions/07-stream_capture_voronoi.ipynb\n",
      "../part1_flopy/solutions/06-Project-quadtree.ipynb\n",
      "../part1_flopy/solutions/06-Project-voronoi.ipynb\n",
      "../part0_python_intro/06b_matplotlib_animation.ipynb\n",
      "../part0_python_intro/09_b_Geopandas_ABQ.ipynb\n",
      "../part0_python_intro/10_Rasterio.ipynb\n",
      "../part0_python_intro/00_python_basics_review.ipynb\n",
      "../part0_python_intro/09_a_Geopandas.ipynb\n",
      "../part0_python_intro/03_useful-std-library-modules.ipynb\n",
      "../part0_python_intro/05_numpy.ipynb\n",
      "../part0_python_intro/11_xarray_mt_rainier_precip.ipynb\n",
      "../part0_python_intro/solutions/04_files_and_strings.ipynb\n",
      "../part0_python_intro/solutions/06_matplotlib__solution.ipynb\n",
      "../part0_python_intro/solutions/07a_Theis-exercise-solution.ipynb\n",
      "../part0_python_intro/solutions/01_functions_script__solution.ipynb\n",
      "../part0_python_intro/solutions/05_numpy__solutions.ipynb\n",
      "../part0_python_intro/solutions/09_Geopandas__solutions.ipynb\n",
      "../part0_python_intro/solutions/03_useful-std-library-modules-solutions.ipynb\n",
      "../part0_python_intro/solutions/02_Namespace_objects_modules_packages__solution.ipynb\n",
      "../part0_python_intro/solutions/08_pandas.ipynb\n"
     ]
    }
   ],
   "source": [
    "for root, dirs, files in os.walk(pth):\n",
    "    for f in files:\n",
    "        filepath = Path(root, f)\n",
    "        if filepath.suffix == '.ipynb':\n",
    "            print(filepath)"
   ]
  },
  {
   "cell_type": "markdown",
   "metadata": {},
   "source": [
    "### Accessing environmental variables"
   ]
  },
  {
   "cell_type": "code",
   "execution_count": 51,
   "metadata": {
    "execution": {
     "iopub.execute_input": "2025-05-19T23:55:13.503441Z",
     "iopub.status.busy": "2025-05-19T23:55:13.503274Z",
     "iopub.status.idle": "2025-05-19T23:55:13.508231Z",
     "shell.execute_reply": "2025-05-19T23:55:13.507857Z"
    }
   },
   "outputs": [
    {
     "data": {
      "text/plain": [
       "environ{'GITHUB_STATE': '/home/runner/work/_temp/_runner_file_commands/save_state_368a1972-a80f-4d91-9144-38a836bbe769',\n",
       "        'CONDA_PROMPT_MODIFIER': '(pyclass-docs) ',\n",
       "        'STATS_TRP': 'true',\n",
       "        'DOTNET_NOLOGO': '1',\n",
       "        'DEPLOYMENT_BASEPATH': '/opt/runner',\n",
       "        'USER': 'runner',\n",
       "        'CI': 'true',\n",
       "        'GITHUB_ENV': '/home/runner/work/_temp/_runner_file_commands/set_env_368a1972-a80f-4d91-9144-38a836bbe769',\n",
       "        'PIPX_HOME': '/opt/pipx',\n",
       "        'RUNNER_ENVIRONMENT': 'github-hosted',\n",
       "        'JAVA_HOME_8_X64': '/usr/lib/jvm/temurin-8-jdk-amd64',\n",
       "        'SHLVL': '1',\n",
       "        'CONDA_SHLVL': '1',\n",
       "        'HOME': '/home/runner',\n",
       "        'RUNNER_TEMP': '/home/runner/work/_temp',\n",
       "        'GITHUB_EVENT_PATH': '/home/runner/work/_temp/_github_workflow/event.json',\n",
       "        'GITHUB_REPOSITORY_OWNER': 'jlarsen-usgs',\n",
       "        'JAVA_HOME_11_X64': '/usr/lib/jvm/temurin-11-jdk-amd64',\n",
       "        'PIPX_BIN_DIR': '/opt/pipx_bin',\n",
       "        'STATS_RDCL': 'true',\n",
       "        'ANDROID_NDK_LATEST_HOME': '/usr/local/lib/android/sdk/ndk/28.1.13356709',\n",
       "        'GRADLE_HOME': '/usr/share/gradle-8.14',\n",
       "        'GITHUB_RETENTION_DAYS': '90',\n",
       "        'JAVA_HOME_21_X64': '/usr/lib/jvm/temurin-21-jdk-amd64',\n",
       "        'POWERSHELL_DISTRIBUTION_CHANNEL': 'GitHub-Actions-ubuntu24',\n",
       "        'CPL_ZIP_ENCODING': 'UTF-8',\n",
       "        'GITHUB_HEAD_REF': '',\n",
       "        'GITHUB_REPOSITORY_OWNER_ID': '19962180',\n",
       "        'AZURE_EXTENSION_DIR': '/opt/az/azcliextensions',\n",
       "        'MAKEFLAGS': 'w',\n",
       "        'SYSTEMD_EXEC_PID': '836',\n",
       "        'GITHUB_GRAPHQL_URL': 'https://api.github.com/graphql',\n",
       "        'NVM_DIR': '/home/runner/.nvm',\n",
       "        'DOTNET_SKIP_FIRST_TIME_EXPERIENCE': '1',\n",
       "        'JAVA_HOME_17_X64': '/usr/lib/jvm/temurin-17-jdk-amd64',\n",
       "        'GOROOT_1_21_X64': '/opt/hostedtoolcache/go/1.21.13/x64',\n",
       "        'ImageVersion': '20250511.1.0',\n",
       "        'RUNNER_OS': 'Linux',\n",
       "        'GITHUB_API_URL': 'https://api.github.com',\n",
       "        'SWIFT_PATH': '/usr/share/swift/usr/bin',\n",
       "        'GOROOT_1_22_X64': '/opt/hostedtoolcache/go/1.22.12/x64',\n",
       "        'RUNNER_USER': 'runner',\n",
       "        'GOROOT_1_23_X64': '/opt/hostedtoolcache/go/1.23.9/x64',\n",
       "        'CHROMEWEBDRIVER': '/usr/local/share/chromedriver-linux64',\n",
       "        '_': '/usr/bin/make',\n",
       "        'JOURNAL_STREAM': '9:5654',\n",
       "        'GITHUB_WORKFLOW': 'Publish Docs',\n",
       "        'STATS_V3PS': 'true',\n",
       "        'MEMORY_PRESSURE_WATCH': '/sys/fs/cgroup/system.slice/runner-provisioner.service/memory.pressure',\n",
       "        'CONDARC': '/home/runner/work/_temp/setup-micromamba/.condarc',\n",
       "        'STATS_D': 'false',\n",
       "        'GITHUB_RUN_ID': '15125583414',\n",
       "        'ACTIONS_RUNNER_ACTION_ARCHIVE_CACHE': '/opt/actionarchivecache',\n",
       "        'STATS_VMFE': 'true',\n",
       "        'GITHUB_WORKFLOW_SHA': '5c3f4b60a83185a0a14740d03d6b17c7313c2254',\n",
       "        'MODFLOW_BIN_PATH': '/home/runner/.local/bin',\n",
       "        'BOOTSTRAP_HASKELL_NONINTERACTIVE': '1',\n",
       "        'GITHUB_REF_TYPE': 'branch',\n",
       "        'ImageOS': 'ubuntu24',\n",
       "        'GITHUB_BASE_REF': '',\n",
       "        'GITHUB_ACTION_REPOSITORY': '',\n",
       "        'PERFLOG_LOCATION_SETTING': 'RUNNER_PERFLOG',\n",
       "        'GITHUB_WORKFLOW_REF': 'jlarsen-usgs/python-for-hydrology/.github/workflows/build_docs.yaml@refs/heads/main',\n",
       "        'PATH': '/home/runner/micromamba/envs/pyclass-docs/bin:/home/runner/micromamba/condabin:/home/runner/.local/bin:/home/runner/work/_temp/setup-micromamba:/home/runner/micromamba-bin:/snap/bin:/home/runner/.local/bin:/opt/pipx_bin:/home/runner/.cargo/bin:/home/runner/.config/composer/vendor/bin:/usr/local/.ghcup/bin:/home/runner/.dotnet/tools:/usr/local/sbin:/usr/local/bin:/usr/sbin:/usr/bin:/sbin:/bin:/usr/games:/usr/local/games:/snap/bin',\n",
       "        'RUNNER_TRACKING_ID': 'github_3cec61f8-4ed7-4262-9bc1-b916eadc6ce8',\n",
       "        'DOTNET_MULTILEVEL_LOOKUP': '0',\n",
       "        'INVOCATION_ID': 'fda516ebcd0541cdab0eac60fa473c52',\n",
       "        'PROJ_NETWORK': 'ON',\n",
       "        'RUNNER_TOOL_CACHE': '/opt/hostedtoolcache',\n",
       "        'ANT_HOME': '/usr/share/ant',\n",
       "        'GITHUB_TRIGGERING_ACTOR': 'jlarsen-usgs',\n",
       "        'GITHUB_RUN_NUMBER': '28',\n",
       "        'RUNNER_ARCH': 'X64',\n",
       "        'XDG_RUNTIME_DIR': '/run/user/1001',\n",
       "        'AGENT_TOOLSDIRECTORY': '/opt/hostedtoolcache',\n",
       "        'GITHUB_ACTION': '__run_7',\n",
       "        'PROJ_DATA': '/home/runner/micromamba/envs/pyclass-docs/share/proj',\n",
       "        'MAKELEVEL': '1',\n",
       "        'MAMBA_ROOT_PREFIX': '/home/runner/micromamba',\n",
       "        'LANG': 'C.UTF-8',\n",
       "        'DOTNET_BUNDLE_EXTRACT_BASE_DIR': '/home/runner/.cache/dotnet_bundle_extract',\n",
       "        'VCPKG_INSTALLATION_ROOT': '/usr/local/share/vcpkg',\n",
       "        'RUNNER_NAME': 'GitHub Actions 23',\n",
       "        'GITHUB_REF_NAME': 'main',\n",
       "        'STATS_D_D': 'false',\n",
       "        'XDG_CONFIG_HOME': '/home/runner/.config',\n",
       "        'CONDA': '/usr/share/miniconda',\n",
       "        'STATS_VMD': 'true',\n",
       "        'GITHUB_REPOSITORY': 'jlarsen-usgs/python-for-hydrology',\n",
       "        'XML_CATALOG_FILES': 'file:///home/runner/micromamba/envs/pyclass-docs/etc/xml/catalog file:///etc/xml/catalog',\n",
       "        'STATS_UE': 'true',\n",
       "        'GITHUB_ACTION_REF': '',\n",
       "        'ANDROID_NDK_ROOT': '/usr/local/lib/android/sdk/ndk/27.2.12479018',\n",
       "        'DEBIAN_FRONTEND': 'noninteractive',\n",
       "        'GSETTINGS_SCHEMA_DIR': '/home/runner/micromamba/envs/pyclass-docs/share/glib-2.0/schemas',\n",
       "        'GITHUB_REPOSITORY_ID': '538569971',\n",
       "        'STATS_PIP': 'false',\n",
       "        'GITHUB_ACTIONS': 'true',\n",
       "        'GDAL_DRIVER_PATH': '/home/runner/micromamba/envs/pyclass-docs/lib/gdalplugins',\n",
       "        'GITHUB_REF_PROTECTED': 'false',\n",
       "        'ACCEPT_EULA': 'Y',\n",
       "        'RUNNER_PERFLOG': '/home/runner/perflog',\n",
       "        'GITHUB_JOB': 'docs',\n",
       "        'CONDA_DEFAULT_ENV': 'pyclass-docs',\n",
       "        'GITHUB_WORKSPACE': '/home/runner/work/python-for-hydrology/python-for-hydrology',\n",
       "        'GITHUB_SHA': '5c3f4b60a83185a0a14740d03d6b17c7313c2254',\n",
       "        'GITHUB_RUN_ATTEMPT': '1',\n",
       "        'STATS_D_TC': 'true',\n",
       "        'GITHUB_REF': 'refs/heads/main',\n",
       "        'ANDROID_SDK_ROOT': '/usr/local/lib/android/sdk',\n",
       "        'MAMBA_EXE': '/home/runner/micromamba-bin/micromamba',\n",
       "        'GITHUB_ACTOR': 'jlarsen-usgs',\n",
       "        'JAVA_HOME': '/usr/lib/jvm/temurin-17-jdk-amd64',\n",
       "        'PWD': '/home/runner/work/python-for-hydrology/python-for-hydrology/docs',\n",
       "        'RUNNER_WORKSPACE': '/home/runner/work/python-for-hydrology',\n",
       "        'GITHUB_ACTOR_ID': '19962180',\n",
       "        'GITHUB_PATH': '/home/runner/work/_temp/_runner_file_commands/add_path_368a1972-a80f-4d91-9144-38a836bbe769',\n",
       "        'GHCUP_INSTALL_BASE_PREFIX': '/usr/local',\n",
       "        'GITHUB_EVENT_NAME': 'push',\n",
       "        'XDG_DATA_DIRS': '/usr/local/share:/usr/share:/var/lib/snapd/desktop',\n",
       "        'GITHUB_SERVER_URL': 'https://github.com',\n",
       "        'STATS_TIS': 'mining',\n",
       "        'ANDROID_HOME': '/usr/local/lib/android/sdk',\n",
       "        'GECKOWEBDRIVER': '/usr/local/share/gecko_driver',\n",
       "        'NVM_CD_FLAGS': '',\n",
       "        'HOMEBREW_CLEANUP_PERIODIC_FULL_DAYS': '3650',\n",
       "        'GITHUB_OUTPUT': '/home/runner/work/_temp/_runner_file_commands/set_output_368a1972-a80f-4d91-9144-38a836bbe769',\n",
       "        'HOMEBREW_NO_AUTO_UPDATE': '1',\n",
       "        'EDGEWEBDRIVER': '/usr/local/share/edge_driver',\n",
       "        'STATS_EXT': 'true',\n",
       "        'SGX_AESM_ADDR': '1',\n",
       "        'CHROME_BIN': '/usr/bin/google-chrome',\n",
       "        'MFLAGS': '-w',\n",
       "        'CONDA_PREFIX': '/home/runner/micromamba/envs/pyclass-docs',\n",
       "        'ANDROID_NDK': '/usr/local/lib/android/sdk/ndk/27.2.12479018',\n",
       "        'GSETTINGS_SCHEMA_DIR_CONDA_BACKUP': '',\n",
       "        'MEMORY_PRESSURE_WRITE': 'c29tZSAyMDAwMDAgMjAwMDAwMAA=',\n",
       "        'SELENIUM_JAR_PATH': '/usr/share/java/selenium-server.jar',\n",
       "        'STATS_EXTP': 'https://provjobdprod.z13.web.core.windows.net/settings/provjobdsettings-latest/provjobd.data',\n",
       "        'ANDROID_NDK_HOME': '/usr/local/lib/android/sdk/ndk/27.2.12479018',\n",
       "        'GDAL_DATA': '/home/runner/micromamba/envs/pyclass-docs/share/gdal',\n",
       "        'GITHUB_STEP_SUMMARY': '/home/runner/work/_temp/_runner_file_commands/step_summary_368a1972-a80f-4d91-9144-38a836bbe769',\n",
       "        'DOCUTILSCONFIG': '/home/runner/work/python-for-hydrology/python-for-hydrology/docs/source/docutils.conf',\n",
       "        'JPY_PARENT_PID': '4482',\n",
       "        'PYDEVD_USE_FRAME_EVAL': 'NO',\n",
       "        'TERM': 'xterm-color',\n",
       "        'CLICOLOR': '1',\n",
       "        'FORCE_COLOR': '1',\n",
       "        'CLICOLOR_FORCE': '1',\n",
       "        'PAGER': 'cat',\n",
       "        'GIT_PAGER': 'cat',\n",
       "        'MPLBACKEND': 'module://matplotlib_inline.backend_inline'}"
      ]
     },
     "execution_count": 51,
     "metadata": {},
     "output_type": "execute_result"
    }
   ],
   "source": [
    "os.environ"
   ]
  },
  {
   "cell_type": "markdown",
   "metadata": {},
   "source": [
    "#### Example: get the location of the current python (Conda) environment"
   ]
  },
  {
   "cell_type": "code",
   "execution_count": 52,
   "metadata": {
    "execution": {
     "iopub.execute_input": "2025-05-19T23:55:13.509570Z",
     "iopub.status.busy": "2025-05-19T23:55:13.509425Z",
     "iopub.status.idle": "2025-05-19T23:55:13.512599Z",
     "shell.execute_reply": "2025-05-19T23:55:13.512118Z"
    }
   },
   "outputs": [
    {
     "data": {
      "text/plain": [
       "'/home/runner/micromamba/envs/pyclass-docs'"
      ]
     },
     "execution_count": 52,
     "metadata": {},
     "output_type": "execute_result"
    }
   ],
   "source": [
    "os.environ['CONDA_PREFIX']"
   ]
  },
  {
   "cell_type": "markdown",
   "metadata": {},
   "source": [
    "## ``subprocess`` — Subprocess management\n",
    "\n",
    "The subprocess module offers a way to execute system commands, for example MODFLOW, or any operating system command that you can type at the command line.\n",
    "\n",
    "The recommended approach to invoking subprocesses is to use the ``run()`` function for all use cases it can handle. For more advanced use cases, the underlying ``Popen`` interface can be used directly.\n",
    "\n",
    "Take a look at the following help descriptions for ``run``.\n",
    "\n",
    "Note, that on Windows, you may have to specify \"shell=True\" in order to access system commands."
   ]
  },
  {
   "cell_type": "code",
   "execution_count": 53,
   "metadata": {
    "execution": {
     "iopub.execute_input": "2025-05-19T23:55:13.513968Z",
     "iopub.status.busy": "2025-05-19T23:55:13.513821Z",
     "iopub.status.idle": "2025-05-19T23:55:13.516402Z",
     "shell.execute_reply": "2025-05-19T23:55:13.516000Z"
    }
   },
   "outputs": [
    {
     "name": "stdout",
     "output_type": "stream",
     "text": [
      "Help on function run in module subprocess:\n",
      "\n",
      "run(*popenargs, input=None, capture_output=False, timeout=None, check=False, **kwargs)\n",
      "    Run command with arguments and return a CompletedProcess instance.\n",
      "    \n",
      "    The returned instance will have attributes args, returncode, stdout and\n",
      "    stderr. By default, stdout and stderr are not captured, and those attributes\n",
      "    will be None. Pass stdout=PIPE and/or stderr=PIPE in order to capture them,\n",
      "    or pass capture_output=True to capture both.\n",
      "    \n",
      "    If check is True and the exit code was non-zero, it raises a\n",
      "    CalledProcessError. The CalledProcessError object will have the return code\n",
      "    in the returncode attribute, and output & stderr attributes if those streams\n",
      "    were captured.\n",
      "    \n",
      "    If timeout is given, and the process takes too long, a TimeoutExpired\n",
      "    exception will be raised.\n",
      "    \n",
      "    There is an optional argument \"input\", allowing you to\n",
      "    pass bytes or a string to the subprocess's stdin.  If you use this argument\n",
      "    you may not also use the Popen constructor's \"stdin\" argument, as\n",
      "    it will be used internally.\n",
      "    \n",
      "    By default, all communication is in bytes, and therefore any \"input\" should\n",
      "    be bytes, and the stdout and stderr will be bytes. If in text mode, any\n",
      "    \"input\" should be a string, and stdout and stderr will be strings decoded\n",
      "    according to locale encoding, or by \"encoding\" if set. Text mode is\n",
      "    triggered by setting any of text, encoding, errors or universal_newlines.\n",
      "    \n",
      "    The other arguments are the same as for the Popen constructor.\n",
      "\n"
     ]
    }
   ],
   "source": [
    "help(subprocess.run)"
   ]
  },
  {
   "cell_type": "code",
   "execution_count": 54,
   "metadata": {
    "execution": {
     "iopub.execute_input": "2025-05-19T23:55:13.517754Z",
     "iopub.status.busy": "2025-05-19T23:55:13.517606Z",
     "iopub.status.idle": "2025-05-19T23:55:13.522552Z",
     "shell.execute_reply": "2025-05-19T23:55:13.522090Z"
    }
   },
   "outputs": [
    {
     "name": "stdout",
     "output_type": "stream",
     "text": [
      "00_python_basics_review.ipynb\n",
      "03_useful-std-library-modules.ipynb\n",
      "05_numpy.ipynb\n",
      "06b_matplotlib_animation.ipynb\n",
      "07b_VSCode.md\n",
      "09_a_Geopandas.ipynb\n",
      "09_b_Geopandas_ABQ.ipynb\n",
      "10_Rasterio.ipynb\n",
      "11_xarray_mt_rainier_precip.ipynb\n",
      "another_subfolder\n",
      "data\n",
      "solutions\n",
      "CompletedProcess(args=['ls', '-l'], returncode=0)\n"
     ]
    }
   ],
   "source": [
    "# if on mac/unix\n",
    "print(subprocess.run(['ls', '-l'], shell=True))"
   ]
  },
  {
   "cell_type": "markdown",
   "metadata": {},
   "source": [
    "With the `cwd` argument, we can control the working directory for the command. Here we list the files in the parent directory."
   ]
  },
  {
   "cell_type": "code",
   "execution_count": 55,
   "metadata": {
    "execution": {
     "iopub.execute_input": "2025-05-19T23:55:13.524037Z",
     "iopub.status.busy": "2025-05-19T23:55:13.523759Z",
     "iopub.status.idle": "2025-05-19T23:55:13.528423Z",
     "shell.execute_reply": "2025-05-19T23:55:13.527931Z"
    }
   },
   "outputs": [
    {
     "name": "stdout",
     "output_type": "stream",
     "text": [
      "part0_python_intro\n",
      "part1_flopy\n",
      "CompletedProcess(args=['ls', '-l'], returncode=0)\n"
     ]
    }
   ],
   "source": [
    "print(subprocess.run(['ls', '-l'], shell=True, cwd='..'))"
   ]
  },
  {
   "cell_type": "code",
   "execution_count": 56,
   "metadata": {
    "execution": {
     "iopub.execute_input": "2025-05-19T23:55:13.529983Z",
     "iopub.status.busy": "2025-05-19T23:55:13.529693Z",
     "iopub.status.idle": "2025-05-19T23:55:13.567063Z",
     "shell.execute_reply": "2025-05-19T23:55:13.566675Z"
    }
   },
   "outputs": [
    {
     "name": "stdout",
     "output_type": "stream",
     "text": [
      "00_python_basics_review.ipynb\t     09_b_Geopandas_ABQ.ipynb\n",
      "03_useful-std-library-modules.ipynb  10_Rasterio.ipynb\n",
      "05_numpy.ipynb\t\t\t     11_xarray_mt_rainier_precip.ipynb\n",
      "06b_matplotlib_animation.ipynb\t     another_subfolder\n",
      "07b_VSCode.md\t\t\t     data\n",
      "09_a_Geopandas.ipynb\t\t     solutions\n",
      "CompletedProcess(args=['dir'], returncode=0)\n"
     ]
    }
   ],
   "source": [
    "# if on windows\n",
    "print(subprocess.run(['dir'], shell=True))"
   ]
  },
  {
   "cell_type": "markdown",
   "metadata": {},
   "source": [
    "## ``zipfile`` — Work with ZIP archives\n",
    "\n",
    "#### zip up one of the files in data/"
   ]
  },
  {
   "cell_type": "code",
   "execution_count": 57,
   "metadata": {
    "execution": {
     "iopub.execute_input": "2025-05-19T23:55:13.568563Z",
     "iopub.status.busy": "2025-05-19T23:55:13.568259Z",
     "iopub.status.idle": "2025-05-19T23:55:13.577722Z",
     "shell.execute_reply": "2025-05-19T23:55:13.577343Z"
    }
   },
   "outputs": [],
   "source": [
    "with zipfile.ZipFile('junk.zip', 'w') as dest:\n",
    "    dest.write('data/xarray/daymet_prcp_rainier_1980-2018.nc')"
   ]
  },
  {
   "cell_type": "markdown",
   "metadata": {},
   "source": [
    "#### now extract it"
   ]
  },
  {
   "cell_type": "code",
   "execution_count": 58,
   "metadata": {
    "execution": {
     "iopub.execute_input": "2025-05-19T23:55:13.579034Z",
     "iopub.status.busy": "2025-05-19T23:55:13.578887Z",
     "iopub.status.idle": "2025-05-19T23:55:13.587619Z",
     "shell.execute_reply": "2025-05-19T23:55:13.587133Z"
    }
   },
   "outputs": [],
   "source": [
    "with zipfile.ZipFile('junk.zip') as src:\n",
    "    src.extract('data/xarray/daymet_prcp_rainier_1980-2018.nc', path='extracted_data')"
   ]
  },
  {
   "cell_type": "markdown",
   "metadata": {},
   "source": [
    "## Testing Your Skills with a truly awful example:\n",
    "\n",
    "#### the problem:\n",
    "Pretend that the file `data/fileio/netcdf_data.zip` contains some climate data (in the NetCDF format with the ``*.nc`` extension) that we downloaded. If you open `data/fileio/netcdf_data.zip`, you'll see that within a subfolder `zipped` are a bunch of additional subfolders, each for a different year. Within each subfolder is another zipfile. Within each of these zipfiles is yet another subfolder, inside of which is the actual data file we want (`prcp.nc`). "
   ]
  },
  {
   "cell_type": "code",
   "execution_count": 59,
   "metadata": {
    "execution": {
     "iopub.execute_input": "2025-05-19T23:55:13.589087Z",
     "iopub.status.busy": "2025-05-19T23:55:13.588850Z",
     "iopub.status.idle": "2025-05-19T23:55:13.592419Z",
     "shell.execute_reply": "2025-05-19T23:55:13.591937Z"
    }
   },
   "outputs": [
    {
     "name": "stdout",
     "output_type": "stream",
     "text": [
      "netcdf_data/\n",
      "netcdf_data/zipped/\n",
      "netcdf_data/zipped/zipped_1991/\n",
      "netcdf_data/zipped/zipped_1991/12270_1991.zip\n",
      "netcdf_data/zipped/zipped_1996/\n",
      "netcdf_data/zipped/zipped_1996/12270_1996.zip\n",
      "netcdf_data/zipped/zipped_1998/\n",
      "netcdf_data/zipped/zipped_1998/12270_1998.zip\n",
      "netcdf_data/zipped/zipped_1999/\n",
      "netcdf_data/zipped/zipped_1999/12270_1999.zip\n"
     ]
    }
   ],
   "source": [
    "with zipfile.ZipFile('data/netcdf_data.zip') as src:\n",
    "    for f in src.namelist()[:10]:\n",
    "        print(f)"
   ]
  },
  {
   "cell_type": "markdown",
   "metadata": {},
   "source": [
    "#### the goal:\n",
    "To extract all of these `prcp.nc` files into a single folder, after renaming them with their respective years (obtained from their enclosing folders or zip files). e.g.  \n",
    "```\n",
    "prcp_1980.nc\n",
    "prcp_1981.nc\n",
    "...\n",
    "```\n",
    "This will allow us to open them together as a dataset in `xarray` (more on that later). Does this sound awful? I'm not making this up. This is the kind of structure you get when downloading tiles of climate data with the [Daymet Tile Selection Tool](https://daymet.ornl.gov/gridded/)\n",
    "\n",
    "#### hint:\n",
    "you might find these functions helpful:\n",
    "```\n",
    "ZipFile.extractall\n",
    "ZipFile.extract\n",
    "Path.glob\n",
    "Path.mkdir\n",
    "Path.stem\n",
    "Path.parent\n",
    "Path.name\n",
    "shutil.move\n",
    "Path.rmdir()\n",
    "```"
   ]
  },
  {
   "cell_type": "markdown",
   "metadata": {},
   "source": [
    "#### hint: start by using ``ZipFile.extractall()`` to extract all of the individual zip files from the main zip archive\n",
    "This extracts the entire contents of the zip file to a designated folder"
   ]
  },
  {
   "cell_type": "code",
   "execution_count": 60,
   "metadata": {
    "execution": {
     "iopub.execute_input": "2025-05-19T23:55:13.594144Z",
     "iopub.status.busy": "2025-05-19T23:55:13.593755Z",
     "iopub.status.idle": "2025-05-19T23:55:13.602162Z",
     "shell.execute_reply": "2025-05-19T23:55:13.601799Z"
    }
   },
   "outputs": [],
   "source": [
    "output_folder = Path('03-output')\n",
    "output_folder.mkdir(exist_ok=True)\n",
    "\n",
    "with zipfile.ZipFile('data/netcdf_data.zip') as src:\n",
    "    src.extractall(output_folder)"
   ]
  },
  {
   "cell_type": "markdown",
   "metadata": {},
   "source": [
    "Make a list of the zipfiles"
   ]
  },
  {
   "cell_type": "code",
   "execution_count": 61,
   "metadata": {
    "execution": {
     "iopub.execute_input": "2025-05-19T23:55:13.603469Z",
     "iopub.status.busy": "2025-05-19T23:55:13.603335Z",
     "iopub.status.idle": "2025-05-19T23:55:13.607545Z",
     "shell.execute_reply": "2025-05-19T23:55:13.607132Z"
    }
   },
   "outputs": [
    {
     "data": {
      "text/plain": [
       "[PosixPath('03-output/netcdf_data/zipped/zipped_1991/12270_1991.zip'),\n",
       " PosixPath('03-output/netcdf_data/zipped/zipped_1996/12270_1996.zip'),\n",
       " PosixPath('03-output/netcdf_data/zipped/zipped_2005/12270_2005.zip'),\n",
       " PosixPath('03-output/netcdf_data/zipped/zipped_1998/12270_1998.zip'),\n",
       " PosixPath('03-output/netcdf_data/zipped/zipped_2014/12270_2014.zip')]"
      ]
     },
     "execution_count": 61,
     "metadata": {},
     "output_type": "execute_result"
    }
   ],
   "source": [
    "zipfiles = list(output_folder.glob('netcdf_data/zipped/*/*.zip'))\n",
    "zipfiles[:5]"
   ]
  },
  {
   "cell_type": "markdown",
   "metadata": {},
   "source": [
    "### Part 1: extract with a single file"
   ]
  },
  {
   "cell_type": "code",
   "execution_count": 62,
   "metadata": {
    "execution": {
     "iopub.execute_input": "2025-05-19T23:55:13.608852Z",
     "iopub.status.busy": "2025-05-19T23:55:13.608719Z",
     "iopub.status.idle": "2025-05-19T23:55:13.611876Z",
     "shell.execute_reply": "2025-05-19T23:55:13.611411Z"
    }
   },
   "outputs": [
    {
     "data": {
      "text/plain": [
       "PosixPath('03-output/netcdf_data/zipped/zipped_1991/12270_1991.zip')"
      ]
     },
     "execution_count": 62,
     "metadata": {},
     "output_type": "execute_result"
    }
   ],
   "source": [
    "f = zipfiles[0]\n",
    "f"
   ]
  },
  {
   "cell_type": "markdown",
   "metadata": {},
   "source": [
    "#### 1a) Use ``ZipFile.namelist()`` (as above) list the contents\n",
    "\n",
    "This will yield the name of the ``*.nc`` file that we need to extract"
   ]
  },
  {
   "cell_type": "code",
   "execution_count": null,
   "metadata": {},
   "outputs": [],
   "source": []
  },
  {
   "cell_type": "markdown",
   "metadata": {},
   "source": [
    "#### 1b) Use ``ZipFile.extract()`` to extract the ``*.nc`` file to the destination folder\n",
    "(you may need to create the destination folder first)"
   ]
  },
  {
   "cell_type": "code",
   "execution_count": null,
   "metadata": {},
   "outputs": [],
   "source": []
  },
  {
   "cell_type": "markdown",
   "metadata": {},
   "source": [
    "#### 1c) Move the extracted file out of any enclosing subfolders, and rename to ``prcp_<year>.nc``\n",
    "(so that if we repeat this for subsequent files, the extracted ``*.nc`` files will end up in the same place)"
   ]
  },
  {
   "cell_type": "code",
   "execution_count": null,
   "metadata": {},
   "outputs": [],
   "source": []
  },
  {
   "cell_type": "markdown",
   "metadata": {},
   "source": [
    "#### 1d) Remove the extra subfolders that were extracted"
   ]
  },
  {
   "cell_type": "code",
   "execution_count": null,
   "metadata": {},
   "outputs": [],
   "source": []
  },
  {
   "cell_type": "markdown",
   "metadata": {},
   "source": [
    "### Part 2: put the above steps together into a loop to repeat the workflow for all of the NetCDF files"
   ]
  },
  {
   "cell_type": "code",
   "execution_count": null,
   "metadata": {},
   "outputs": [],
   "source": []
  },
  {
   "cell_type": "markdown",
   "metadata": {},
   "source": [
    "## Bonus Application -- Using ``os`` to find the location of an executable\n",
    "\n",
    "There are often times that you run an executable that is nested somewhere deep within your system path.  It can often be a good idea to know exactly where that executable is located.  This might help you one day from accidentally using an older version of an executable, such as MODFLOW."
   ]
  },
  {
   "cell_type": "code",
   "execution_count": 63,
   "metadata": {
    "execution": {
     "iopub.execute_input": "2025-05-19T23:55:13.613503Z",
     "iopub.status.busy": "2025-05-19T23:55:13.613366Z",
     "iopub.status.idle": "2025-05-19T23:55:13.617165Z",
     "shell.execute_reply": "2025-05-19T23:55:13.616785Z"
    }
   },
   "outputs": [],
   "source": [
    "# Define two functions to help determine 'which' program you are using\n",
    "def is_exe(fpath):\n",
    "    \"\"\"\n",
    "    Return True if fpath is an executable, otherwise return False\n",
    "    \"\"\"\n",
    "    return os.path.isfile(fpath) and os.access(fpath, os.X_OK)\n",
    "\n",
    "def which(program):\n",
    "    \"\"\"\n",
    "    Locate the program and return its full path.  Return\n",
    "    None if the program cannot be located.\n",
    "    \"\"\"\n",
    "    fpath, fname = os.path.split(program)\n",
    "    if fpath:\n",
    "        if is_exe(program):\n",
    "            return program\n",
    "    else:\n",
    "        # test for exe in current working directory\n",
    "        if is_exe(program):\n",
    "            return program\n",
    "        # test for exe in path statement\n",
    "        for path in os.environ[\"PATH\"].split(os.pathsep):\n",
    "            path = path.strip('\"')\n",
    "            exe_file = os.path.join(path, program)\n",
    "            if is_exe(exe_file):\n",
    "                return exe_file\n",
    "    return None"
   ]
  },
  {
   "cell_type": "code",
   "execution_count": 64,
   "metadata": {
    "execution": {
     "iopub.execute_input": "2025-05-19T23:55:13.618678Z",
     "iopub.status.busy": "2025-05-19T23:55:13.618287Z",
     "iopub.status.idle": "2025-05-19T23:55:13.621680Z",
     "shell.execute_reply": "2025-05-19T23:55:13.621199Z"
    }
   },
   "outputs": [
    {
     "data": {
      "text/plain": [
       "'/home/runner/.local/bin/mf6'"
      ]
     },
     "execution_count": 64,
     "metadata": {},
     "output_type": "execute_result"
    }
   ],
   "source": [
    "which('mf6')"
   ]
  },
  {
   "cell_type": "code",
   "execution_count": null,
   "metadata": {},
   "outputs": [],
   "source": []
  }
 ],
 "metadata": {
  "kernelspec": {
   "display_name": "pyclass",
   "language": "python",
   "name": "python3"
  },
  "language_info": {
   "codemirror_mode": {
    "name": "ipython",
    "version": 3
   },
   "file_extension": ".py",
   "mimetype": "text/x-python",
   "name": "python",
   "nbconvert_exporter": "python",
   "pygments_lexer": "ipython3",
   "version": "3.11.12"
  }
 },
 "nbformat": 4,
 "nbformat_minor": 4
}
